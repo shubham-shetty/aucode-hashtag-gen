{
  "nbformat": 4,
  "nbformat_minor": 0,
  "metadata": {
    "colab": {
      "name": "GPT3_Hashtag_Generation.ipynb",
      "provenance": [],
      "collapsed_sections": [
        "_bmWGW7gIgpL",
        "DYgiEhXubflA",
        "fAuFcL0a9LqO",
        "bVei2iu714LS"
      ]
    },
    "kernelspec": {
      "name": "python3",
      "display_name": "Python 3"
    },
    "language_info": {
      "name": "python"
    }
  },
  "cells": [
    {
      "cell_type": "markdown",
      "source": [
        "# Setup"
      ],
      "metadata": {
        "id": "a7lQ_6pYIYhK"
      }
    },
    {
      "cell_type": "code",
      "source": [
        "!pip install openai"
      ],
      "metadata": {
        "id": "I54xlc1Ntomn",
        "colab": {
          "base_uri": "https://localhost:8080/"
        },
        "outputId": "4be0febb-b07c-4c63-f2a3-3ecf80c7a691"
      },
      "execution_count": null,
      "outputs": [
        {
          "output_type": "stream",
          "name": "stdout",
          "text": [
            "Collecting openai\n",
            "  Downloading openai-0.18.1.tar.gz (42 kB)\n",
            "\u001b[?25l\r\u001b[K     |███████▊                        | 10 kB 7.0 MB/s eta 0:00:01\r\u001b[K     |███████████████▍                | 20 kB 2.8 MB/s eta 0:00:01\r\u001b[K     |███████████████████████▏        | 30 kB 2.4 MB/s eta 0:00:01\r\u001b[K     |██████████████████████████████▉ | 40 kB 3.1 MB/s eta 0:00:01\r\u001b[K     |████████████████████████████████| 42 kB 282 kB/s \n",
            "\u001b[?25h  Installing build dependencies ... \u001b[?25l\u001b[?25hcanceled\n",
            "\u001b[31mERROR: Operation cancelled by user\u001b[0m\n"
          ]
        }
      ]
    },
    {
      "cell_type": "code",
      "execution_count": null,
      "metadata": {
        "id": "zQyPExmesXsu",
        "outputId": "62268a23-e8e5-4927-c24e-020671d450ee",
        "colab": {
          "base_uri": "https://localhost:8080/",
          "height": 329
        }
      },
      "outputs": [
        {
          "output_type": "error",
          "ename": "ModuleNotFoundError",
          "evalue": "ignored",
          "traceback": [
            "\u001b[0;31m---------------------------------------------------------------------------\u001b[0m",
            "\u001b[0;31mModuleNotFoundError\u001b[0m                       Traceback (most recent call last)",
            "\u001b[0;32m<ipython-input-2-e57e5c76375d>\u001b[0m in \u001b[0;36m<module>\u001b[0;34m()\u001b[0m\n\u001b[1;32m      1\u001b[0m \u001b[0;32mimport\u001b[0m \u001b[0mos\u001b[0m\u001b[0;34m\u001b[0m\u001b[0;34m\u001b[0m\u001b[0m\n\u001b[0;32m----> 2\u001b[0;31m \u001b[0;32mimport\u001b[0m \u001b[0mopenai\u001b[0m\u001b[0;34m\u001b[0m\u001b[0;34m\u001b[0m\u001b[0m\n\u001b[0m",
            "\u001b[0;31mModuleNotFoundError\u001b[0m: No module named 'openai'",
            "",
            "\u001b[0;31m---------------------------------------------------------------------------\u001b[0;32m\nNOTE: If your import is failing due to a missing package, you can\nmanually install dependencies using either !pip or !apt.\n\nTo view examples of installing some common dependencies, click the\n\"Open Examples\" button below.\n\u001b[0;31m---------------------------------------------------------------------------\u001b[0m\n"
          ],
          "errorDetails": {
            "actions": [
              {
                "action": "open_url",
                "actionText": "Open Examples",
                "url": "/notebooks/snippets/importing_libraries.ipynb"
              }
            ]
          }
        }
      ],
      "source": [
        "import os\n",
        "import openai"
      ]
    },
    {
      "cell_type": "code",
      "source": [
        "# Enter API Key Here\n",
        "openai.api_key = \"\""
      ],
      "metadata": {
        "id": "FjtpBZC1s9aq"
      },
      "execution_count": null,
      "outputs": []
    },
    {
      "cell_type": "markdown",
      "source": [
        "# Pretexts for Fine-tuning"
      ],
      "metadata": {
        "id": "y3-uEMElIcc4"
      }
    },
    {
      "cell_type": "code",
      "source": [
        "pretext_tweets = '''\n",
        "Tweet: The present strategy of large scale vaccination in rich countries and a shamefaced herdimmunity approach is a desperate gamble.\n",
        "Hashtag: #COVID19\n",
        "\n",
        "Tweet: Some Humans are so sick in the head I refuse to believe I am part of the same species.\n",
        "Hashtag: #COVID19\n",
        "\n",
        "Tweet: How Brian Pallister, Heather Stefanson and Obby Khan all used a variation of this tagline when they were asked about the PC government's pandemic response.\n",
        "Hashtag: #COVID19\"\n",
        "\n",
        "Tweet: Some truths about covid19. It may not be what you want to hear, but it is what you NEED to hear.\n",
        "Hashtag: #COVID19\n",
        "\n",
        "Tweet: The fact that Brittany Griner even has to go to Russia in the first place to get paid a decent salary is the root problem. Imagine if this was Lebron James. This would be the biggest story in sports history. Respect and pay our women here at home\n",
        "Hashtag: #NBA\n",
        "\n",
        "Tweet: Michael Jordan | Bulls  vs Hawks | 1995 | 32pts, HE's BACK \n",
        "Hashtag: #NBA\n",
        "\n",
        "Tweet: NBA \"This Is My Vengeance!\" MOMENTS includes players such as LeBron James, Kyrie Irving, Stephen Curry, Kevin Durant, Ja... \n",
        "Hashtag: #NBA\n",
        "'''"
      ],
      "metadata": {
        "id": "alegdxOmtEBy"
      },
      "execution_count": null,
      "outputs": []
    },
    {
      "cell_type": "code",
      "source": [
        "pretext_tweet_insentence = '''\n",
        "Tweet: Tesla stocks are about to skyrocket\n",
        "Hashtagged Tweet: #Tesla stocks are about to skyrocket #ElonMusk\n",
        "\n",
        "Tweet: Stephen Curry is the greatest basketball player\n",
        "Hashtagged Tweet: #StephenCurry is the greatest basketball player #NBA #basketball\n",
        "\n",
        "Tweet: Is History repeating itself?!\n",
        "Hashtagged Tweet: Is History repeating itself?! #dontNormalizeHate\n",
        "'''"
      ],
      "metadata": {
        "id": "GIyEnXifUMqS"
      },
      "execution_count": null,
      "outputs": []
    },
    {
      "cell_type": "markdown",
      "source": [
        "# Image to Text"
      ],
      "metadata": {
        "id": "rIPkrl1lJsQ4"
      }
    },
    {
      "cell_type": "code",
      "source": [
        "!pip install transformers command\n",
        "!pip install easyocr\n",
        "!pip install opencv-python-headless==4.5.2.52"
      ],
      "metadata": {
        "id": "HYTpjtLdJ0iS"
      },
      "execution_count": null,
      "outputs": []
    },
    {
      "cell_type": "code",
      "source": [
        "from transformers import VisionEncoderDecoderModel, ViTFeatureExtractor, AutoTokenizer\n",
        "import torch\n",
        "import torchvision\n",
        "import requests\n",
        "from PIL import Image\n",
        "import easyocr\n",
        "\n",
        "model = VisionEncoderDecoderModel.from_pretrained(\"nlpconnect/vit-gpt2-image-captioning\")\n",
        "feature_extractor = ViTFeatureExtractor.from_pretrained(\"nlpconnect/vit-gpt2-image-captioning\")\n",
        "tokenizer = AutoTokenizer.from_pretrained(\"nlpconnect/vit-gpt2-image-captioning\")\n",
        "\n",
        "device = torch.device(\"cuda\" if torch.cuda.is_available() else \"cpu\")\n",
        "# model.to(device)\n",
        "\n",
        "max_length = 16\n",
        "num_beams = 4\n",
        "gen_kwargs = {\"max_length\": max_length, \"num_beams\": num_beams}\n",
        "reader = easyocr.Reader(['en'])"
      ],
      "metadata": {
        "id": "ibD5koUzJvtu"
      },
      "execution_count": null,
      "outputs": []
    },
    {
      "cell_type": "code",
      "source": [
        "def predict_step(images):\n",
        "  pixel_values = feature_extractor(images=images, return_tensors=\"pt\").pixel_values\n",
        "  pixel_values = pixel_values.to(device)\n",
        "\n",
        "  output_ids = model.generate(pixel_values, **gen_kwargs)\n",
        "\n",
        "  preds = tokenizer.batch_decode(output_ids, skip_special_tokens=True)\n",
        "  preds = [pred.strip() for pred in preds]\n",
        "  return preds"
      ],
      "metadata": {
        "id": "NxWtzHZbEo6w"
      },
      "execution_count": null,
      "outputs": []
    },
    {
      "cell_type": "code",
      "source": [
        "def image2text(url):\n",
        "  image = Image.open(requests.get(url, stream=True).raw).convert('RGB')\n",
        "  ocr = reader.readtext(url)\n",
        "  ocr_text = \"\"\n",
        "  for i in range(len(ocr)):\n",
        "    ocr_text += \" \" + ocr[i][-2]\n",
        "  des = predict_step([image])[0]\n",
        "  return {'description': des, 'OCR': ocr_text}"
      ],
      "metadata": {
        "id": "ybxf0PvJKUKs"
      },
      "execution_count": null,
      "outputs": []
    },
    {
      "cell_type": "markdown",
      "source": [
        "# Inputs"
      ],
      "metadata": {
        "id": "_bmWGW7gIgpL"
      }
    },
    {
      "cell_type": "code",
      "source": [
        "image_input = '''\n",
        "Tweet Text: \n",
        "Image Description: an advertisement for a television show\n",
        "Image OCR: On THIS DAH 14 YEARS AGO WARRIORS NATION STEPH CURRV INTPODUCED HIHSELF TO THE IORLD HND SCORED 40 POIITS AGHIIST HOHZHca CLUTCHPOINTS\n",
        "Hashtags:'''"
      ],
      "metadata": {
        "id": "xG79fhY4Yvpi"
      },
      "execution_count": null,
      "outputs": []
    },
    {
      "cell_type": "code",
      "source": [
        "def gen_hashtags(tweet):\n",
        "  response = openai.Completion.create(\n",
        "    engine=\"text-davinci-002\",\n",
        "    prompt=pretext_tweets+\"\\n\"+tweet+\"\\nHashtags:\",\n",
        "    temperature=0,\n",
        "    max_tokens=100,\n",
        "    top_p=1,\n",
        "    frequency_penalty=0.0,\n",
        "    presence_penalty=0.0,\n",
        "    stop=[\"\\n\"]\n",
        "  )\n",
        "  return response[\"choices\"][0][\"text\"]"
      ],
      "metadata": {
        "id": "XeUk5TKAs_UW"
      },
      "execution_count": null,
      "outputs": []
    },
    {
      "cell_type": "code",
      "source": [
        "gen_hashtags(\"\\nTweet: I love Drake and DJ Khalid\\nHashtags:\")"
      ],
      "metadata": {
        "colab": {
          "base_uri": "https://localhost:8080/",
          "height": 35
        },
        "id": "MWINKqEp31BH",
        "outputId": "d8a22ed2-a87f-4789-a8c7-c3c4bbe054ef"
      },
      "execution_count": null,
      "outputs": [
        {
          "output_type": "execute_result",
          "data": {
            "text/plain": [
              "' #Drake, #DJKhalid'"
            ],
            "application/vnd.google.colaboratory.intrinsic+json": {
              "type": "string"
            }
          },
          "metadata": {},
          "execution_count": 11
        }
      ]
    },
    {
      "cell_type": "code",
      "source": [
        "def gen_insentence_hashtags(tweet):\n",
        "  response = openai.Completion.create(\n",
        "    engine=\"text-davinci-002\",\n",
        "    prompt=pretext_tweet_insentence+\"\\n\"+tweet+\"\\nHashttagged Tweet:\",\n",
        "    temperature=0,\n",
        "    max_tokens=100,\n",
        "    top_p=1,\n",
        "    frequency_penalty=0.0,\n",
        "    presence_penalty=0.0,\n",
        "    stop=[\"\\n\"]\n",
        "  )\n",
        "  return response[\"choices\"][0][\"text\"]"
      ],
      "metadata": {
        "id": "BDQJyP-PIwoS"
      },
      "execution_count": null,
      "outputs": []
    },
    {
      "cell_type": "code",
      "source": [
        "gen_insentence_hashtags(\"\\nTweet: I love Drake and DJ Khalid\\nHashtags:\")"
      ],
      "metadata": {
        "colab": {
          "base_uri": "https://localhost:8080/",
          "height": 35
        },
        "id": "lCuUIbUHJNMA",
        "outputId": "10adc952-2e83-48ca-f966-ed263be01361"
      },
      "execution_count": null,
      "outputs": [
        {
          "output_type": "execute_result",
          "data": {
            "text/plain": [
              "' I love #Drake and #DJKhalid'"
            ],
            "application/vnd.google.colaboratory.intrinsic+json": {
              "type": "string"
            }
          },
          "metadata": {},
          "execution_count": 13
        }
      ]
    },
    {
      "cell_type": "code",
      "source": [
        "gen_insentence_hashtags(\"\\nTweet: Putin needs to stop his attack on Ukraine\\nHashtags:\")"
      ],
      "metadata": {
        "colab": {
          "base_uri": "https://localhost:8080/",
          "height": 35
        },
        "id": "cindLN2Wc2hX",
        "outputId": "1a7970fa-87b6-4e95-8199-101af6bf4875"
      },
      "execution_count": null,
      "outputs": [
        {
          "output_type": "execute_result",
          "data": {
            "text/plain": [
              "' #Putin needs to stop his attack on #Ukraine #Crimea'"
            ],
            "application/vnd.google.colaboratory.intrinsic+json": {
              "type": "string"
            }
          },
          "metadata": {},
          "execution_count": 41
        }
      ]
    },
    {
      "cell_type": "code",
      "source": [
        "gen_insentence_hashtags(\"Today has been a teleporting type day. 3 cities, 1 day.\")"
      ],
      "metadata": {
        "colab": {
          "base_uri": "https://localhost:8080/",
          "height": 35
        },
        "id": "pmFxBevxJQfL",
        "outputId": "50aa3bbe-003d-4016-ee01-2df3ef58ece5"
      },
      "execution_count": null,
      "outputs": [
        {
          "output_type": "execute_result",
          "data": {
            "text/plain": [
              "' Today has been a teleporting type day. 3 cities, 1 day. #travel'"
            ],
            "application/vnd.google.colaboratory.intrinsic+json": {
              "type": "string"
            }
          },
          "metadata": {},
          "execution_count": 14
        }
      ]
    },
    {
      "cell_type": "code",
      "source": [
        "def gen_image_hashtags(tweet, image_text):\n",
        "  response = openai.Completion.create(\n",
        "    engine=\"text-davinci-002\",\n",
        "    prompt=\"Tweet: \" + tweet + \"\\nImage Description: \" + image_text['description'] + \"\\nImage OCR: \" + image_text['OCR'] + \"\\nHashtags:\",\n",
        "    temperature=0,\n",
        "    max_tokens=100,\n",
        "    top_p=1,\n",
        "    frequency_penalty=0.0,\n",
        "    presence_penalty=0.0,\n",
        "    stop=[\"\\n\"]\n",
        "  )\n",
        "  return response[\"choices\"][0][\"text\"]"
      ],
      "metadata": {
        "id": "qfYqVunAK2N_"
      },
      "execution_count": null,
      "outputs": []
    },
    {
      "cell_type": "code",
      "source": [
        "image_text = image2text(\"https://pbs.twimg.com/media/FOYTNj3UcAEjzq9?format=jpg&name=medium\")"
      ],
      "metadata": {
        "id": "TXrQgJFaJm6h"
      },
      "execution_count": null,
      "outputs": []
    },
    {
      "cell_type": "code",
      "source": [
        "gen_image_hashtags(\"\", image_text), image_text"
      ],
      "metadata": {
        "colab": {
          "base_uri": "https://localhost:8080/"
        },
        "id": "XPsOe1h1auoB",
        "outputId": "3425ec1a-6aee-4b5a-d1b5-1716ab01f724"
      },
      "execution_count": null,
      "outputs": [
        {
          "output_type": "execute_result",
          "data": {
            "text/plain": [
              "(' #Warriors #StephCurry',\n",
              " {'OCR': ' On THIS DAH 14 YEARS AGO WARRIORS NATION STEPH CURRV ITRODUCED HIISELF TO THE IORLD HND SCORED 40 POIITS AGHIIST HOHZHca CLUTCHPOINTS VAldon:',\n",
              "  'description': 'an advertisement for a television show'})"
            ]
          },
          "metadata": {},
          "execution_count": 30
        }
      ]
    },
    {
      "cell_type": "code",
      "source": [
        "image_text['OCR'].lower()"
      ],
      "metadata": {
        "colab": {
          "base_uri": "https://localhost:8080/",
          "height": 35
        },
        "id": "Q3wftN8J8Av_",
        "outputId": "3614f080-e80d-41dd-96fa-11701f05a5b7"
      },
      "execution_count": null,
      "outputs": [
        {
          "output_type": "execute_result",
          "data": {
            "text/plain": [
              "' on this dah 14 years ago warriors nation steph currv itroduced hiiself to the iorld hnd scored 40 poiits aghiist hohzhca clutchpoints valdon:'"
            ],
            "application/vnd.google.colaboratory.intrinsic+json": {
              "type": "string"
            }
          },
          "metadata": {},
          "execution_count": 31
        }
      ]
    },
    {
      "cell_type": "code",
      "source": [
        "image_text2 = image2text(\"https://pbs.twimg.com/semantic_core_img/1506780556595326976/qNo3T_to?format=jpg&name=900x900\")"
      ],
      "metadata": {
        "id": "go5HKx8DKygI"
      },
      "execution_count": null,
      "outputs": []
    },
    {
      "cell_type": "code",
      "source": [
        "image_text2"
      ],
      "metadata": {
        "colab": {
          "base_uri": "https://localhost:8080/"
        },
        "id": "Bdjaeq52oreU",
        "outputId": "8cc7a4c8-1cc6-4e45-c167-7bf51109d0f3"
      },
      "execution_count": null,
      "outputs": [
        {
          "output_type": "execute_result",
          "data": {
            "text/plain": [
              "{'OCR': ' 80777,273-10 FEon Injecbon Under dose Voe {22 LED Aunnar 7nci Kultiple \\' 0l050 \"doses',\n",
              " 'description': 'a knife and a plastic container on a kitchen counter'}"
            ]
          },
          "metadata": {},
          "execution_count": 11
        }
      ]
    },
    {
      "cell_type": "code",
      "source": [
        "tweet_text = '''\n",
        "Australia strikes deal with Moderna to set up mRNA vaccine manufacturing facility in Victoria\n",
        "Pharmaceuticals giant Moderna is set to build the southern hemisphere's first mRNA vaccine manufacturing facility in Melbourne following a $2-billion, 10-year deal with the Australian and Victorian governments. The facility is expected to manufacture 100 million doses annually, authorities announced on Thursday.\n",
        "'''\n",
        "gen_image_hashtags(\"\", image_text2)"
      ],
      "metadata": {
        "colab": {
          "base_uri": "https://localhost:8080/",
          "height": 35
        },
        "id": "PaQ7NteCba9w",
        "outputId": "6d4ccd50-3d89-49aa-9b9a-9b36bf96c19d"
      },
      "execution_count": null,
      "outputs": [
        {
          "output_type": "execute_result",
          "data": {
            "text/plain": [
              "' #cooking #kitchen'"
            ],
            "application/vnd.google.colaboratory.intrinsic+json": {
              "type": "string"
            }
          },
          "metadata": {},
          "execution_count": 13
        }
      ]
    },
    {
      "cell_type": "code",
      "source": [
        "image_text2['description']"
      ],
      "metadata": {
        "colab": {
          "base_uri": "https://localhost:8080/",
          "height": 35
        },
        "id": "cqgc2MiHjtDE",
        "outputId": "d87388d5-7b6c-450c-a0ac-cca5bd49a617"
      },
      "execution_count": null,
      "outputs": [
        {
          "output_type": "execute_result",
          "data": {
            "text/plain": [
              "'a knife and a plastic container on a kitchen counter'"
            ],
            "application/vnd.google.colaboratory.intrinsic+json": {
              "type": "string"
            }
          },
          "metadata": {},
          "execution_count": 43
        }
      ]
    },
    {
      "cell_type": "code",
      "source": [
        "image_text3 = image2text(\"https://pbs.twimg.com/media/FOn7LY5VcAc56PO?format=jpg&name=large\")\n",
        "gen_image_hashtags(\"\", image_text3)"
      ],
      "metadata": {
        "colab": {
          "base_uri": "https://localhost:8080/",
          "height": 35
        },
        "id": "yGHxGNU4bfTK",
        "outputId": "a76d7190-7c28-494a-de59-a48b350f6710"
      },
      "execution_count": null,
      "outputs": [
        {
          "output_type": "execute_result",
          "data": {
            "text/plain": [
              "' #miamiheat #nba'"
            ],
            "application/vnd.google.colaboratory.intrinsic+json": {
              "type": "string"
            }
          },
          "metadata": {},
          "execution_count": 40
        }
      ]
    },
    {
      "cell_type": "code",
      "source": [
        ""
      ],
      "metadata": {
        "id": "-_ueIA_fcVu7"
      },
      "execution_count": null,
      "outputs": []
    },
    {
      "cell_type": "markdown",
      "source": [
        "# Midpoint Results"
      ],
      "metadata": {
        "id": "DYgiEhXubflA"
      }
    },
    {
      "cell_type": "code",
      "source": [
        "#data\n",
        "import pandas as pd\n",
        "import io\n",
        "import requests\n",
        "\n",
        "# data_url = \"https://raw.githubusercontent.com/satwikgoyal/Hashtag-Prediction/main/Tweets_Hashtag_Dataset.csv\"\n",
        "# data_url = \"https://raw.githubusercontent.com/satwikgoyal/Hashtag-Prediction/main/Tweets%20%2B%20Hashtags%20Dataset%20-%20120.csv\"\n",
        "# data_url = \"https://raw.githubusercontent.com/satwikgoyal/Hashtag-Prediction/main/tweet_prompts.csv\"\n",
        "data_url = \"https://raw.githubusercontent.com/satwikgoyal/Hashtag-Prediction/main/test_prompts.csv\"\n",
        "s = requests.get(data_url).content\n",
        "df = pd.read_csv(io.StringIO(s.decode('utf-8')))"
      ],
      "metadata": {
        "id": "DpdC8Z8rbhhD"
      },
      "execution_count": null,
      "outputs": []
    },
    {
      "cell_type": "code",
      "source": [
        "df.head(-1)"
      ],
      "metadata": {
        "colab": {
          "base_uri": "https://localhost:8080/",
          "height": 423
        },
        "id": "BlcmefILcEF8",
        "outputId": "c430984b-b7c6-4688-e5bf-4847b3c80d94"
      },
      "execution_count": null,
      "outputs": [
        {
          "output_type": "execute_result",
          "data": {
            "text/plain": [
              "      Unnamed: 0                                             prompt  \\\n",
              "0           1099  🚀 🚀 🚀 $1,242 , 399 btcusdt longed @ $40,985 . ...   \n",
              "1            327  bitcoin : $41043.9 💔 - 135.46 last 1 hour ( - ...   \n",
              "2           1809  pounding the pavement today . . .     https://...   \n",
              "3           1622   interactive accessibility meetup happy hour a...   \n",
              "4           1596  i bambini hanno bisogno di esser amati , siamo...   \n",
              "...          ...                                                ...   \n",
              "1173         495         … ps yo me siento a ver las redes y com...   \n",
              "1174         400  ド文系の大学生がエンジニアになるまでの1年間の記録 / 勉強法 https://t.co/o...   \n",
              "1175         368  the historic ecological and cultural devastati...   \n",
              "1176        1111  thinking about finally investing in cryptocurr...   \n",
              "1177         308  another nation state joins the  domino effect ...   \n",
              "\n",
              "                                             completion  \n",
              "0                         #binance #btc #cryptocurrency  \n",
              "1     #bitcoinpriceupdates #bitcoin #hourlycrypto #c...  \n",
              "2     #running #nofilter #poundingpavement #burnener...  \n",
              "3                                           #sxsw #a11y  \n",
              "4                                   #love #tizianoferro  \n",
              "...                                                 ...  \n",
              "1173  #laguerra #eldollar #ritmosalvaje #noticias #i...  \n",
              "1174                  #php #laravel #java #エンジニア #プログラマ  \n",
              "1175  #gold #bitcoin #cryptocurrencies #defi #storeo...  \n",
              "1176            #bitcoin #etherium #binance #crypto #t0  \n",
              "1177                      #bitcoin #btc #cryptocurrency  \n",
              "\n",
              "[1178 rows x 3 columns]"
            ],
            "text/html": [
              "\n",
              "  <div id=\"df-f00bf08d-2f93-48d5-98e0-9bc5bb9b1753\">\n",
              "    <div class=\"colab-df-container\">\n",
              "      <div>\n",
              "<style scoped>\n",
              "    .dataframe tbody tr th:only-of-type {\n",
              "        vertical-align: middle;\n",
              "    }\n",
              "\n",
              "    .dataframe tbody tr th {\n",
              "        vertical-align: top;\n",
              "    }\n",
              "\n",
              "    .dataframe thead th {\n",
              "        text-align: right;\n",
              "    }\n",
              "</style>\n",
              "<table border=\"1\" class=\"dataframe\">\n",
              "  <thead>\n",
              "    <tr style=\"text-align: right;\">\n",
              "      <th></th>\n",
              "      <th>Unnamed: 0</th>\n",
              "      <th>prompt</th>\n",
              "      <th>completion</th>\n",
              "    </tr>\n",
              "  </thead>\n",
              "  <tbody>\n",
              "    <tr>\n",
              "      <th>0</th>\n",
              "      <td>1099</td>\n",
              "      <td>🚀 🚀 🚀 $1,242 , 399 btcusdt longed @ $40,985 . ...</td>\n",
              "      <td>#binance #btc #cryptocurrency</td>\n",
              "    </tr>\n",
              "    <tr>\n",
              "      <th>1</th>\n",
              "      <td>327</td>\n",
              "      <td>bitcoin : $41043.9 💔 - 135.46 last 1 hour ( - ...</td>\n",
              "      <td>#bitcoinpriceupdates #bitcoin #hourlycrypto #c...</td>\n",
              "    </tr>\n",
              "    <tr>\n",
              "      <th>2</th>\n",
              "      <td>1809</td>\n",
              "      <td>pounding the pavement today . . .     https://...</td>\n",
              "      <td>#running #nofilter #poundingpavement #burnener...</td>\n",
              "    </tr>\n",
              "    <tr>\n",
              "      <th>3</th>\n",
              "      <td>1622</td>\n",
              "      <td>interactive accessibility meetup happy hour a...</td>\n",
              "      <td>#sxsw #a11y</td>\n",
              "    </tr>\n",
              "    <tr>\n",
              "      <th>4</th>\n",
              "      <td>1596</td>\n",
              "      <td>i bambini hanno bisogno di esser amati , siamo...</td>\n",
              "      <td>#love #tizianoferro</td>\n",
              "    </tr>\n",
              "    <tr>\n",
              "      <th>...</th>\n",
              "      <td>...</td>\n",
              "      <td>...</td>\n",
              "      <td>...</td>\n",
              "    </tr>\n",
              "    <tr>\n",
              "      <th>1173</th>\n",
              "      <td>495</td>\n",
              "      <td>… ps yo me siento a ver las redes y com...</td>\n",
              "      <td>#laguerra #eldollar #ritmosalvaje #noticias #i...</td>\n",
              "    </tr>\n",
              "    <tr>\n",
              "      <th>1174</th>\n",
              "      <td>400</td>\n",
              "      <td>ド文系の大学生がエンジニアになるまでの1年間の記録 / 勉強法 https://t.co/o...</td>\n",
              "      <td>#php #laravel #java #エンジニア #プログラマ</td>\n",
              "    </tr>\n",
              "    <tr>\n",
              "      <th>1175</th>\n",
              "      <td>368</td>\n",
              "      <td>the historic ecological and cultural devastati...</td>\n",
              "      <td>#gold #bitcoin #cryptocurrencies #defi #storeo...</td>\n",
              "    </tr>\n",
              "    <tr>\n",
              "      <th>1176</th>\n",
              "      <td>1111</td>\n",
              "      <td>thinking about finally investing in cryptocurr...</td>\n",
              "      <td>#bitcoin #etherium #binance #crypto #t0</td>\n",
              "    </tr>\n",
              "    <tr>\n",
              "      <th>1177</th>\n",
              "      <td>308</td>\n",
              "      <td>another nation state joins the  domino effect ...</td>\n",
              "      <td>#bitcoin #btc #cryptocurrency</td>\n",
              "    </tr>\n",
              "  </tbody>\n",
              "</table>\n",
              "<p>1178 rows × 3 columns</p>\n",
              "</div>\n",
              "      <button class=\"colab-df-convert\" onclick=\"convertToInteractive('df-f00bf08d-2f93-48d5-98e0-9bc5bb9b1753')\"\n",
              "              title=\"Convert this dataframe to an interactive table.\"\n",
              "              style=\"display:none;\">\n",
              "        \n",
              "  <svg xmlns=\"http://www.w3.org/2000/svg\" height=\"24px\"viewBox=\"0 0 24 24\"\n",
              "       width=\"24px\">\n",
              "    <path d=\"M0 0h24v24H0V0z\" fill=\"none\"/>\n",
              "    <path d=\"M18.56 5.44l.94 2.06.94-2.06 2.06-.94-2.06-.94-.94-2.06-.94 2.06-2.06.94zm-11 1L8.5 8.5l.94-2.06 2.06-.94-2.06-.94L8.5 2.5l-.94 2.06-2.06.94zm10 10l.94 2.06.94-2.06 2.06-.94-2.06-.94-.94-2.06-.94 2.06-2.06.94z\"/><path d=\"M17.41 7.96l-1.37-1.37c-.4-.4-.92-.59-1.43-.59-.52 0-1.04.2-1.43.59L10.3 9.45l-7.72 7.72c-.78.78-.78 2.05 0 2.83L4 21.41c.39.39.9.59 1.41.59.51 0 1.02-.2 1.41-.59l7.78-7.78 2.81-2.81c.8-.78.8-2.07 0-2.86zM5.41 20L4 18.59l7.72-7.72 1.47 1.35L5.41 20z\"/>\n",
              "  </svg>\n",
              "      </button>\n",
              "      \n",
              "  <style>\n",
              "    .colab-df-container {\n",
              "      display:flex;\n",
              "      flex-wrap:wrap;\n",
              "      gap: 12px;\n",
              "    }\n",
              "\n",
              "    .colab-df-convert {\n",
              "      background-color: #E8F0FE;\n",
              "      border: none;\n",
              "      border-radius: 50%;\n",
              "      cursor: pointer;\n",
              "      display: none;\n",
              "      fill: #1967D2;\n",
              "      height: 32px;\n",
              "      padding: 0 0 0 0;\n",
              "      width: 32px;\n",
              "    }\n",
              "\n",
              "    .colab-df-convert:hover {\n",
              "      background-color: #E2EBFA;\n",
              "      box-shadow: 0px 1px 2px rgba(60, 64, 67, 0.3), 0px 1px 3px 1px rgba(60, 64, 67, 0.15);\n",
              "      fill: #174EA6;\n",
              "    }\n",
              "\n",
              "    [theme=dark] .colab-df-convert {\n",
              "      background-color: #3B4455;\n",
              "      fill: #D2E3FC;\n",
              "    }\n",
              "\n",
              "    [theme=dark] .colab-df-convert:hover {\n",
              "      background-color: #434B5C;\n",
              "      box-shadow: 0px 1px 3px 1px rgba(0, 0, 0, 0.15);\n",
              "      filter: drop-shadow(0px 1px 2px rgba(0, 0, 0, 0.3));\n",
              "      fill: #FFFFFF;\n",
              "    }\n",
              "  </style>\n",
              "\n",
              "      <script>\n",
              "        const buttonEl =\n",
              "          document.querySelector('#df-f00bf08d-2f93-48d5-98e0-9bc5bb9b1753 button.colab-df-convert');\n",
              "        buttonEl.style.display =\n",
              "          google.colab.kernel.accessAllowed ? 'block' : 'none';\n",
              "\n",
              "        async function convertToInteractive(key) {\n",
              "          const element = document.querySelector('#df-f00bf08d-2f93-48d5-98e0-9bc5bb9b1753');\n",
              "          const dataTable =\n",
              "            await google.colab.kernel.invokeFunction('convertToInteractive',\n",
              "                                                     [key], {});\n",
              "          if (!dataTable) return;\n",
              "\n",
              "          const docLinkHtml = 'Like what you see? Visit the ' +\n",
              "            '<a target=\"_blank\" href=https://colab.research.google.com/notebooks/data_table.ipynb>data table notebook</a>'\n",
              "            + ' to learn more about interactive tables.';\n",
              "          element.innerHTML = '';\n",
              "          dataTable['output_type'] = 'display_data';\n",
              "          await google.colab.output.renderOutput(dataTable, element);\n",
              "          const docLink = document.createElement('div');\n",
              "          docLink.innerHTML = docLinkHtml;\n",
              "          element.appendChild(docLink);\n",
              "        }\n",
              "      </script>\n",
              "    </div>\n",
              "  </div>\n",
              "  "
            ]
          },
          "metadata": {},
          "execution_count": 33
        }
      ]
    },
    {
      "cell_type": "code",
      "source": [
        "#zero shot learning approach\n",
        "def hashtags(tweet):\n",
        "  text = '''Find hashtags for the tweet\n",
        "  \n",
        "  Tweet: '''\n",
        "  s = text + tweet + '\\nHashtags:'\n",
        "  response = openai.Completion.create(\n",
        "    engine=\"text-davinci-002\",\n",
        "    prompt=s,\n",
        "    temperature=0,\n",
        "    max_tokens=60,\n",
        "    top_p=1,\n",
        "    frequency_penalty=0.0,\n",
        "    presence_penalty=0.0\n",
        "  )\n",
        "  return response[\"choices\"][0][\"text\"]"
      ],
      "metadata": {
        "id": "SUIHmDiReUHi"
      },
      "execution_count": null,
      "outputs": []
    },
    {
      "cell_type": "code",
      "source": [
        "hashtags_result = []\n",
        "for i in range(len(df['prompt'])):\n",
        "  hashtags_result.append(hashtags(df['prompt'][i]))"
      ],
      "metadata": {
        "id": "mRHhDnv9eUt_"
      },
      "execution_count": null,
      "outputs": []
    },
    {
      "cell_type": "code",
      "source": [
        "df['Zero-shot Hashtaghs'] = hashtags_result"
      ],
      "metadata": {
        "id": "qoMNiL8Fe1Qt"
      },
      "execution_count": null,
      "outputs": []
    },
    {
      "cell_type": "code",
      "source": [
        "df.head(-1)"
      ],
      "metadata": {
        "colab": {
          "base_uri": "https://localhost:8080/",
          "height": 467
        },
        "id": "2gk5uzaFgjX2",
        "outputId": "12db5319-634e-4587-8b39-75fc9326a62c"
      },
      "execution_count": null,
      "outputs": [
        {
          "output_type": "execute_result",
          "data": {
            "text/plain": [
              "      Unnamed: 0                                             prompt  \\\n",
              "0           1099  🚀 🚀 🚀 $1,242 , 399 btcusdt longed @ $40,985 . ...   \n",
              "1            327  bitcoin : $41043.9 💔 - 135.46 last 1 hour ( - ...   \n",
              "2           1809  pounding the pavement today . . .     https://...   \n",
              "3           1622   interactive accessibility meetup happy hour a...   \n",
              "4           1596  i bambini hanno bisogno di esser amati , siamo...   \n",
              "...          ...                                                ...   \n",
              "1173         495         … ps yo me siento a ver las redes y com...   \n",
              "1174         400  ド文系の大学生がエンジニアになるまでの1年間の記録 / 勉強法 https://t.co/o...   \n",
              "1175         368  the historic ecological and cultural devastati...   \n",
              "1176        1111  thinking about finally investing in cryptocurr...   \n",
              "1177         308  another nation state joins the  domino effect ...   \n",
              "\n",
              "                                             completion  \\\n",
              "0                         #binance #btc #cryptocurrency   \n",
              "1     #bitcoinpriceupdates #bitcoin #hourlycrypto #c...   \n",
              "2     #running #nofilter #poundingpavement #burnener...   \n",
              "3                                           #sxsw #a11y   \n",
              "4                                   #love #tizianoferro   \n",
              "...                                                 ...   \n",
              "1173  #laguerra #eldollar #ritmosalvaje #noticias #i...   \n",
              "1174                  #php #laravel #java #エンジニア #プログラマ   \n",
              "1175  #gold #bitcoin #cryptocurrencies #defi #storeo...   \n",
              "1176            #bitcoin #etherium #binance #crypto #t0   \n",
              "1177                      #bitcoin #btc #cryptocurrency   \n",
              "\n",
              "                                    Zero-shot Hashtaghs  \n",
              "0                 #btc #bitcoin #crypto #cryptocurrency  \n",
              "1                               #bitcoin #cryptocompare  \n",
              "2                          #pounding, #pavement, #today  \n",
              "3      #interactive #accessibility #meetup #happyhou...  \n",
              "4                            #love #children #2022 #gay  \n",
              "...                                                 ...  \n",
              "1173              \\n\\n#socialmedia #networking #popcorn  \n",
              "1174                              #ド文系 #大学生 #エンジニア #勉強法  \n",
              "1175                  #ecology #culture #sustainability  \n",
              "1176   #cryptocurrencies #investing #transactionfees...  \n",
              "1177   #dominoeffect #malaysia #zahidizainulabidin #...  \n",
              "\n",
              "[1178 rows x 4 columns]"
            ],
            "text/html": [
              "\n",
              "  <div id=\"df-0916b029-6ca6-4c24-bc2b-6b2868a95e33\">\n",
              "    <div class=\"colab-df-container\">\n",
              "      <div>\n",
              "<style scoped>\n",
              "    .dataframe tbody tr th:only-of-type {\n",
              "        vertical-align: middle;\n",
              "    }\n",
              "\n",
              "    .dataframe tbody tr th {\n",
              "        vertical-align: top;\n",
              "    }\n",
              "\n",
              "    .dataframe thead th {\n",
              "        text-align: right;\n",
              "    }\n",
              "</style>\n",
              "<table border=\"1\" class=\"dataframe\">\n",
              "  <thead>\n",
              "    <tr style=\"text-align: right;\">\n",
              "      <th></th>\n",
              "      <th>Unnamed: 0</th>\n",
              "      <th>prompt</th>\n",
              "      <th>completion</th>\n",
              "      <th>Zero-shot Hashtaghs</th>\n",
              "    </tr>\n",
              "  </thead>\n",
              "  <tbody>\n",
              "    <tr>\n",
              "      <th>0</th>\n",
              "      <td>1099</td>\n",
              "      <td>🚀 🚀 🚀 $1,242 , 399 btcusdt longed @ $40,985 . ...</td>\n",
              "      <td>#binance #btc #cryptocurrency</td>\n",
              "      <td>#btc #bitcoin #crypto #cryptocurrency</td>\n",
              "    </tr>\n",
              "    <tr>\n",
              "      <th>1</th>\n",
              "      <td>327</td>\n",
              "      <td>bitcoin : $41043.9 💔 - 135.46 last 1 hour ( - ...</td>\n",
              "      <td>#bitcoinpriceupdates #bitcoin #hourlycrypto #c...</td>\n",
              "      <td>#bitcoin #cryptocompare</td>\n",
              "    </tr>\n",
              "    <tr>\n",
              "      <th>2</th>\n",
              "      <td>1809</td>\n",
              "      <td>pounding the pavement today . . .     https://...</td>\n",
              "      <td>#running #nofilter #poundingpavement #burnener...</td>\n",
              "      <td>#pounding, #pavement, #today</td>\n",
              "    </tr>\n",
              "    <tr>\n",
              "      <th>3</th>\n",
              "      <td>1622</td>\n",
              "      <td>interactive accessibility meetup happy hour a...</td>\n",
              "      <td>#sxsw #a11y</td>\n",
              "      <td>#interactive #accessibility #meetup #happyhou...</td>\n",
              "    </tr>\n",
              "    <tr>\n",
              "      <th>4</th>\n",
              "      <td>1596</td>\n",
              "      <td>i bambini hanno bisogno di esser amati , siamo...</td>\n",
              "      <td>#love #tizianoferro</td>\n",
              "      <td>#love #children #2022 #gay</td>\n",
              "    </tr>\n",
              "    <tr>\n",
              "      <th>...</th>\n",
              "      <td>...</td>\n",
              "      <td>...</td>\n",
              "      <td>...</td>\n",
              "      <td>...</td>\n",
              "    </tr>\n",
              "    <tr>\n",
              "      <th>1173</th>\n",
              "      <td>495</td>\n",
              "      <td>… ps yo me siento a ver las redes y com...</td>\n",
              "      <td>#laguerra #eldollar #ritmosalvaje #noticias #i...</td>\n",
              "      <td>\\n\\n#socialmedia #networking #popcorn</td>\n",
              "    </tr>\n",
              "    <tr>\n",
              "      <th>1174</th>\n",
              "      <td>400</td>\n",
              "      <td>ド文系の大学生がエンジニアになるまでの1年間の記録 / 勉強法 https://t.co/o...</td>\n",
              "      <td>#php #laravel #java #エンジニア #プログラマ</td>\n",
              "      <td>#ド文系 #大学生 #エンジニア #勉強法</td>\n",
              "    </tr>\n",
              "    <tr>\n",
              "      <th>1175</th>\n",
              "      <td>368</td>\n",
              "      <td>the historic ecological and cultural devastati...</td>\n",
              "      <td>#gold #bitcoin #cryptocurrencies #defi #storeo...</td>\n",
              "      <td>#ecology #culture #sustainability</td>\n",
              "    </tr>\n",
              "    <tr>\n",
              "      <th>1176</th>\n",
              "      <td>1111</td>\n",
              "      <td>thinking about finally investing in cryptocurr...</td>\n",
              "      <td>#bitcoin #etherium #binance #crypto #t0</td>\n",
              "      <td>#cryptocurrencies #investing #transactionfees...</td>\n",
              "    </tr>\n",
              "    <tr>\n",
              "      <th>1177</th>\n",
              "      <td>308</td>\n",
              "      <td>another nation state joins the  domino effect ...</td>\n",
              "      <td>#bitcoin #btc #cryptocurrency</td>\n",
              "      <td>#dominoeffect #malaysia #zahidizainulabidin #...</td>\n",
              "    </tr>\n",
              "  </tbody>\n",
              "</table>\n",
              "<p>1178 rows × 4 columns</p>\n",
              "</div>\n",
              "      <button class=\"colab-df-convert\" onclick=\"convertToInteractive('df-0916b029-6ca6-4c24-bc2b-6b2868a95e33')\"\n",
              "              title=\"Convert this dataframe to an interactive table.\"\n",
              "              style=\"display:none;\">\n",
              "        \n",
              "  <svg xmlns=\"http://www.w3.org/2000/svg\" height=\"24px\"viewBox=\"0 0 24 24\"\n",
              "       width=\"24px\">\n",
              "    <path d=\"M0 0h24v24H0V0z\" fill=\"none\"/>\n",
              "    <path d=\"M18.56 5.44l.94 2.06.94-2.06 2.06-.94-2.06-.94-.94-2.06-.94 2.06-2.06.94zm-11 1L8.5 8.5l.94-2.06 2.06-.94-2.06-.94L8.5 2.5l-.94 2.06-2.06.94zm10 10l.94 2.06.94-2.06 2.06-.94-2.06-.94-.94-2.06-.94 2.06-2.06.94z\"/><path d=\"M17.41 7.96l-1.37-1.37c-.4-.4-.92-.59-1.43-.59-.52 0-1.04.2-1.43.59L10.3 9.45l-7.72 7.72c-.78.78-.78 2.05 0 2.83L4 21.41c.39.39.9.59 1.41.59.51 0 1.02-.2 1.41-.59l7.78-7.78 2.81-2.81c.8-.78.8-2.07 0-2.86zM5.41 20L4 18.59l7.72-7.72 1.47 1.35L5.41 20z\"/>\n",
              "  </svg>\n",
              "      </button>\n",
              "      \n",
              "  <style>\n",
              "    .colab-df-container {\n",
              "      display:flex;\n",
              "      flex-wrap:wrap;\n",
              "      gap: 12px;\n",
              "    }\n",
              "\n",
              "    .colab-df-convert {\n",
              "      background-color: #E8F0FE;\n",
              "      border: none;\n",
              "      border-radius: 50%;\n",
              "      cursor: pointer;\n",
              "      display: none;\n",
              "      fill: #1967D2;\n",
              "      height: 32px;\n",
              "      padding: 0 0 0 0;\n",
              "      width: 32px;\n",
              "    }\n",
              "\n",
              "    .colab-df-convert:hover {\n",
              "      background-color: #E2EBFA;\n",
              "      box-shadow: 0px 1px 2px rgba(60, 64, 67, 0.3), 0px 1px 3px 1px rgba(60, 64, 67, 0.15);\n",
              "      fill: #174EA6;\n",
              "    }\n",
              "\n",
              "    [theme=dark] .colab-df-convert {\n",
              "      background-color: #3B4455;\n",
              "      fill: #D2E3FC;\n",
              "    }\n",
              "\n",
              "    [theme=dark] .colab-df-convert:hover {\n",
              "      background-color: #434B5C;\n",
              "      box-shadow: 0px 1px 3px 1px rgba(0, 0, 0, 0.15);\n",
              "      filter: drop-shadow(0px 1px 2px rgba(0, 0, 0, 0.3));\n",
              "      fill: #FFFFFF;\n",
              "    }\n",
              "  </style>\n",
              "\n",
              "      <script>\n",
              "        const buttonEl =\n",
              "          document.querySelector('#df-0916b029-6ca6-4c24-bc2b-6b2868a95e33 button.colab-df-convert');\n",
              "        buttonEl.style.display =\n",
              "          google.colab.kernel.accessAllowed ? 'block' : 'none';\n",
              "\n",
              "        async function convertToInteractive(key) {\n",
              "          const element = document.querySelector('#df-0916b029-6ca6-4c24-bc2b-6b2868a95e33');\n",
              "          const dataTable =\n",
              "            await google.colab.kernel.invokeFunction('convertToInteractive',\n",
              "                                                     [key], {});\n",
              "          if (!dataTable) return;\n",
              "\n",
              "          const docLinkHtml = 'Like what you see? Visit the ' +\n",
              "            '<a target=\"_blank\" href=https://colab.research.google.com/notebooks/data_table.ipynb>data table notebook</a>'\n",
              "            + ' to learn more about interactive tables.';\n",
              "          element.innerHTML = '';\n",
              "          dataTable['output_type'] = 'display_data';\n",
              "          await google.colab.output.renderOutput(dataTable, element);\n",
              "          const docLink = document.createElement('div');\n",
              "          docLink.innerHTML = docLinkHtml;\n",
              "          element.appendChild(docLink);\n",
              "        }\n",
              "      </script>\n",
              "    </div>\n",
              "  </div>\n",
              "  "
            ]
          },
          "metadata": {},
          "execution_count": 39
        }
      ]
    },
    {
      "cell_type": "code",
      "source": [
        "def hit_ratio(actual, predicted):\n",
        "  accuracy = 0\n",
        "  count = 0\n",
        "  for i in range(len(actual)):\n",
        "    if type(actual[i]) == type(1.0):\n",
        "      print(i)\n",
        "    a_set = set(actual[i].lower().split())\n",
        "    p_set = set(predicted[i].lower().split())\n",
        "    # print(p_set)\n",
        "    if len(a_set.intersection(p_set))>0:\n",
        "      accuracy+=1\n",
        "  return accuracy/len(actual)"
      ],
      "metadata": {
        "id": "Q4MmIs61gkfK"
      },
      "execution_count": null,
      "outputs": []
    },
    {
      "cell_type": "code",
      "source": [
        "test = df.dropna().reset_index()"
      ],
      "metadata": {
        "id": "0qG6Co3fJhHC"
      },
      "execution_count": null,
      "outputs": []
    },
    {
      "cell_type": "code",
      "source": [
        "hit_ratio(test['completion'], test['Zero-shot Hashtaghs'])"
      ],
      "metadata": {
        "colab": {
          "base_uri": "https://localhost:8080/"
        },
        "id": "KlSC7-LXiJgN",
        "outputId": "5090253c-3c63-4433-ae34-c3033c627fb9"
      },
      "execution_count": null,
      "outputs": [
        {
          "output_type": "execute_result",
          "data": {
            "text/plain": [
              "0.2666098807495741"
            ]
          },
          "metadata": {},
          "execution_count": 41
        }
      ]
    },
    {
      "cell_type": "code",
      "source": [
        "#few-shot approach\n",
        "def hashtags_fs():\n",
        "  prompt = 'Find hashtags for the tweet\\n\\n'\n",
        "  test_tweets = []\n",
        "  test_hashtags = []\n",
        "  for i in range(len(df['Text'])):\n",
        "    if i%2==1:\n",
        "      prompt += 'Tweet: ' + df['Text'][i] + '\\nHashtags: ' + df['Hashtags'][i] + '\\n\\n'\n",
        "    else:\n",
        "      test_tweets.append(df['Text'][i])\n",
        "      test_hashtags.append(df['Hashtags'][i])\n",
        "  pred_tags = []\n",
        "  for tweet in test_tweets:\n",
        "    response = openai.Completion.create(\n",
        "    engine=\"text-davinci-002\",\n",
        "    prompt=prompt+'Tweet: '+tweet+'\\nHashtags:',\n",
        "    temperature=0,\n",
        "    max_tokens=60,\n",
        "    top_p=1,\n",
        "    frequency_penalty=0.0,\n",
        "    presence_penalty=0.0)\n",
        "    pred_tags.append(response[\"choices\"][0][\"text\"])\n",
        "  \n",
        "  return pred_tags, test_hashtags"
      ],
      "metadata": {
        "id": "aA81DM5jiOIX"
      },
      "execution_count": null,
      "outputs": []
    },
    {
      "cell_type": "code",
      "source": [
        "pred_tags, test_hashtags = hashtags_fs()"
      ],
      "metadata": {
        "id": "8-g37k5_k1U_"
      },
      "execution_count": null,
      "outputs": []
    },
    {
      "cell_type": "code",
      "source": [
        "hit_ratio(test_hashtags, pred_tags)"
      ],
      "metadata": {
        "colab": {
          "base_uri": "https://localhost:8080/"
        },
        "id": "JIcmU4FFk57B",
        "outputId": "b68fdaaa-7b20-4212-825c-0cfcef655220"
      },
      "execution_count": null,
      "outputs": [
        {
          "output_type": "execute_result",
          "data": {
            "text/plain": [
              "0.7333333333333333"
            ]
          },
          "metadata": {},
          "execution_count": 20
        }
      ]
    },
    {
      "cell_type": "code",
      "source": [
        "import numpy as np\n",
        "\n",
        "lens = 0\n",
        "min_no = 1000\n",
        "max_no = 0\n",
        "for i in range(len(df['Zero-shot Hashtaghs'])):\n",
        "  min_no = np.min([min_no, len(df['Zero-shot Hashtaghs'][i].split())])\n",
        "  max_no = np.max([max_no, len(df['Zero-shot Hashtaghs'][i].split())])\n",
        "  lens += len(df['Zero-shot Hashtaghs'][i].split())\n",
        "\n",
        "lens/=len(df['Zero-shot Hashtaghs'])\n",
        "lens, min_no, max_no"
      ],
      "metadata": {
        "colab": {
          "base_uri": "https://localhost:8080/"
        },
        "id": "QtveKK07m8CJ",
        "outputId": "33cc12a2-926b-4c56-ba25-bef968cd3a74"
      },
      "execution_count": null,
      "outputs": [
        {
          "output_type": "execute_result",
          "data": {
            "text/plain": [
              "(3.658333333333333, 2, 20)"
            ]
          },
          "metadata": {},
          "execution_count": 21
        }
      ]
    },
    {
      "cell_type": "code",
      "source": [
        "lens = 0\n",
        "for i in range(len(df['Hashtags'])):\n",
        "  lens += len(df['Hashtags'][i].split())\n",
        "\n",
        "lens/=len(df['Hashtags'])\n",
        "lens"
      ],
      "metadata": {
        "colab": {
          "base_uri": "https://localhost:8080/"
        },
        "id": "iW9SToNJsBUj",
        "outputId": "805859f6-f24b-4ee5-9c79-cf23e5590855"
      },
      "execution_count": null,
      "outputs": [
        {
          "output_type": "execute_result",
          "data": {
            "text/plain": [
              "3.475"
            ]
          },
          "metadata": {},
          "execution_count": 22
        }
      ]
    },
    {
      "cell_type": "code",
      "source": [
        "df.head(-1)"
      ],
      "metadata": {
        "colab": {
          "base_uri": "https://localhost:8080/",
          "height": 423
        },
        "id": "b5PfvfB69IPF",
        "outputId": "65a3ac61-fb0c-435b-b75e-2ee7389338fd"
      },
      "execution_count": null,
      "outputs": [
        {
          "output_type": "execute_result",
          "data": {
            "text/plain": [
              "                                                  Text        Date  \\\n",
              "0                               Who wants a free NFT?   03/31/2022   \n",
              "1    🌸Spring giveaway!🌸We're giving away one Spring...  03/31/2022   \n",
              "2    Series 2 of Bridgerton is back today! 😍 To cel...  03/25/2022   \n",
              "3    *WIN* For your chance to win new active shoes ...  03/23/2022   \n",
              "4                       Throwing it back to Prey, 2007  03/31/2022   \n",
              "..                                                 ...         ...   \n",
              "114  We may be the last generation that has an incr...  03/20/2022   \n",
              "115  Celebrate the women who forged the way for you...  03/31/2022   \n",
              "116  Recreate your own version of popular movie and...  03/31/2022   \n",
              "117  \"There's only one Michael Jackson, I'll be the...  03/31/2022   \n",
              "118  We had to go on a search for influencer progra...  03/31/2022   \n",
              "\n",
              "                                              Hashtags  \\\n",
              "0                        #NFTGivaway #NFT #Competition   \n",
              "1    #Giveaway #Spring #FolkloreThursday #competiti...   \n",
              "2                                     #Competition #FF   \n",
              "3                                    #win #competition   \n",
              "4                                                 #tbt   \n",
              "..                                                 ...   \n",
              "114                                  #pressforprogress   \n",
              "115  #pressforprogress #WHM2022 #WHM #IWD2022#SeeHe...   \n",
              "116  #hollywood #oscars #actor #influencer #influen...   \n",
              "117                                        #influencer   \n",
              "118  #afluencer #influencer #digitalinfluencer #inf...   \n",
              "\n",
              "                                   Zero-shot Hashtaghs  \n",
              "0                                           #NFT #free  \n",
              "1                             #giveaway #spring #books  \n",
              "2                                      #Bridgerton #UK  \n",
              "3                      #giveaway #contest #win #prizes  \n",
              "4                                          #Prey #2007  \n",
              "..                                                 ...  \n",
              "114                        #Internet #Generation #Work  \n",
              "115   #womenshistorymonth #womenshistory #feminism ...  \n",
              "116   #InVidMe #Recreate #MovieScenes #TVScenes #Cr...  \n",
              "117                         #BrunoMars #MichaelJackson  \n",
              "118       #influencerprograms #foodandbeverage #brands  \n",
              "\n",
              "[119 rows x 4 columns]"
            ],
            "text/html": [
              "\n",
              "  <div id=\"df-c3c5cdeb-11ee-4287-b4cd-01085d08c47c\">\n",
              "    <div class=\"colab-df-container\">\n",
              "      <div>\n",
              "<style scoped>\n",
              "    .dataframe tbody tr th:only-of-type {\n",
              "        vertical-align: middle;\n",
              "    }\n",
              "\n",
              "    .dataframe tbody tr th {\n",
              "        vertical-align: top;\n",
              "    }\n",
              "\n",
              "    .dataframe thead th {\n",
              "        text-align: right;\n",
              "    }\n",
              "</style>\n",
              "<table border=\"1\" class=\"dataframe\">\n",
              "  <thead>\n",
              "    <tr style=\"text-align: right;\">\n",
              "      <th></th>\n",
              "      <th>Text</th>\n",
              "      <th>Date</th>\n",
              "      <th>Hashtags</th>\n",
              "      <th>Zero-shot Hashtaghs</th>\n",
              "    </tr>\n",
              "  </thead>\n",
              "  <tbody>\n",
              "    <tr>\n",
              "      <th>0</th>\n",
              "      <td>Who wants a free NFT?</td>\n",
              "      <td>03/31/2022</td>\n",
              "      <td>#NFTGivaway #NFT #Competition</td>\n",
              "      <td>#NFT #free</td>\n",
              "    </tr>\n",
              "    <tr>\n",
              "      <th>1</th>\n",
              "      <td>🌸Spring giveaway!🌸We're giving away one Spring...</td>\n",
              "      <td>03/31/2022</td>\n",
              "      <td>#Giveaway #Spring #FolkloreThursday #competiti...</td>\n",
              "      <td>#giveaway #spring #books</td>\n",
              "    </tr>\n",
              "    <tr>\n",
              "      <th>2</th>\n",
              "      <td>Series 2 of Bridgerton is back today! 😍 To cel...</td>\n",
              "      <td>03/25/2022</td>\n",
              "      <td>#Competition #FF</td>\n",
              "      <td>#Bridgerton #UK</td>\n",
              "    </tr>\n",
              "    <tr>\n",
              "      <th>3</th>\n",
              "      <td>*WIN* For your chance to win new active shoes ...</td>\n",
              "      <td>03/23/2022</td>\n",
              "      <td>#win #competition</td>\n",
              "      <td>#giveaway #contest #win #prizes</td>\n",
              "    </tr>\n",
              "    <tr>\n",
              "      <th>4</th>\n",
              "      <td>Throwing it back to Prey, 2007</td>\n",
              "      <td>03/31/2022</td>\n",
              "      <td>#tbt</td>\n",
              "      <td>#Prey #2007</td>\n",
              "    </tr>\n",
              "    <tr>\n",
              "      <th>...</th>\n",
              "      <td>...</td>\n",
              "      <td>...</td>\n",
              "      <td>...</td>\n",
              "      <td>...</td>\n",
              "    </tr>\n",
              "    <tr>\n",
              "      <th>114</th>\n",
              "      <td>We may be the last generation that has an incr...</td>\n",
              "      <td>03/20/2022</td>\n",
              "      <td>#pressforprogress</td>\n",
              "      <td>#Internet #Generation #Work</td>\n",
              "    </tr>\n",
              "    <tr>\n",
              "      <th>115</th>\n",
              "      <td>Celebrate the women who forged the way for you...</td>\n",
              "      <td>03/31/2022</td>\n",
              "      <td>#pressforprogress #WHM2022 #WHM #IWD2022#SeeHe...</td>\n",
              "      <td>#womenshistorymonth #womenshistory #feminism ...</td>\n",
              "    </tr>\n",
              "    <tr>\n",
              "      <th>116</th>\n",
              "      <td>Recreate your own version of popular movie and...</td>\n",
              "      <td>03/31/2022</td>\n",
              "      <td>#hollywood #oscars #actor #influencer #influen...</td>\n",
              "      <td>#InVidMe #Recreate #MovieScenes #TVScenes #Cr...</td>\n",
              "    </tr>\n",
              "    <tr>\n",
              "      <th>117</th>\n",
              "      <td>\"There's only one Michael Jackson, I'll be the...</td>\n",
              "      <td>03/31/2022</td>\n",
              "      <td>#influencer</td>\n",
              "      <td>#BrunoMars #MichaelJackson</td>\n",
              "    </tr>\n",
              "    <tr>\n",
              "      <th>118</th>\n",
              "      <td>We had to go on a search for influencer progra...</td>\n",
              "      <td>03/31/2022</td>\n",
              "      <td>#afluencer #influencer #digitalinfluencer #inf...</td>\n",
              "      <td>#influencerprograms #foodandbeverage #brands</td>\n",
              "    </tr>\n",
              "  </tbody>\n",
              "</table>\n",
              "<p>119 rows × 4 columns</p>\n",
              "</div>\n",
              "      <button class=\"colab-df-convert\" onclick=\"convertToInteractive('df-c3c5cdeb-11ee-4287-b4cd-01085d08c47c')\"\n",
              "              title=\"Convert this dataframe to an interactive table.\"\n",
              "              style=\"display:none;\">\n",
              "        \n",
              "  <svg xmlns=\"http://www.w3.org/2000/svg\" height=\"24px\"viewBox=\"0 0 24 24\"\n",
              "       width=\"24px\">\n",
              "    <path d=\"M0 0h24v24H0V0z\" fill=\"none\"/>\n",
              "    <path d=\"M18.56 5.44l.94 2.06.94-2.06 2.06-.94-2.06-.94-.94-2.06-.94 2.06-2.06.94zm-11 1L8.5 8.5l.94-2.06 2.06-.94-2.06-.94L8.5 2.5l-.94 2.06-2.06.94zm10 10l.94 2.06.94-2.06 2.06-.94-2.06-.94-.94-2.06-.94 2.06-2.06.94z\"/><path d=\"M17.41 7.96l-1.37-1.37c-.4-.4-.92-.59-1.43-.59-.52 0-1.04.2-1.43.59L10.3 9.45l-7.72 7.72c-.78.78-.78 2.05 0 2.83L4 21.41c.39.39.9.59 1.41.59.51 0 1.02-.2 1.41-.59l7.78-7.78 2.81-2.81c.8-.78.8-2.07 0-2.86zM5.41 20L4 18.59l7.72-7.72 1.47 1.35L5.41 20z\"/>\n",
              "  </svg>\n",
              "      </button>\n",
              "      \n",
              "  <style>\n",
              "    .colab-df-container {\n",
              "      display:flex;\n",
              "      flex-wrap:wrap;\n",
              "      gap: 12px;\n",
              "    }\n",
              "\n",
              "    .colab-df-convert {\n",
              "      background-color: #E8F0FE;\n",
              "      border: none;\n",
              "      border-radius: 50%;\n",
              "      cursor: pointer;\n",
              "      display: none;\n",
              "      fill: #1967D2;\n",
              "      height: 32px;\n",
              "      padding: 0 0 0 0;\n",
              "      width: 32px;\n",
              "    }\n",
              "\n",
              "    .colab-df-convert:hover {\n",
              "      background-color: #E2EBFA;\n",
              "      box-shadow: 0px 1px 2px rgba(60, 64, 67, 0.3), 0px 1px 3px 1px rgba(60, 64, 67, 0.15);\n",
              "      fill: #174EA6;\n",
              "    }\n",
              "\n",
              "    [theme=dark] .colab-df-convert {\n",
              "      background-color: #3B4455;\n",
              "      fill: #D2E3FC;\n",
              "    }\n",
              "\n",
              "    [theme=dark] .colab-df-convert:hover {\n",
              "      background-color: #434B5C;\n",
              "      box-shadow: 0px 1px 3px 1px rgba(0, 0, 0, 0.15);\n",
              "      filter: drop-shadow(0px 1px 2px rgba(0, 0, 0, 0.3));\n",
              "      fill: #FFFFFF;\n",
              "    }\n",
              "  </style>\n",
              "\n",
              "      <script>\n",
              "        const buttonEl =\n",
              "          document.querySelector('#df-c3c5cdeb-11ee-4287-b4cd-01085d08c47c button.colab-df-convert');\n",
              "        buttonEl.style.display =\n",
              "          google.colab.kernel.accessAllowed ? 'block' : 'none';\n",
              "\n",
              "        async function convertToInteractive(key) {\n",
              "          const element = document.querySelector('#df-c3c5cdeb-11ee-4287-b4cd-01085d08c47c');\n",
              "          const dataTable =\n",
              "            await google.colab.kernel.invokeFunction('convertToInteractive',\n",
              "                                                     [key], {});\n",
              "          if (!dataTable) return;\n",
              "\n",
              "          const docLinkHtml = 'Like what you see? Visit the ' +\n",
              "            '<a target=\"_blank\" href=https://colab.research.google.com/notebooks/data_table.ipynb>data table notebook</a>'\n",
              "            + ' to learn more about interactive tables.';\n",
              "          element.innerHTML = '';\n",
              "          dataTable['output_type'] = 'display_data';\n",
              "          await google.colab.output.renderOutput(dataTable, element);\n",
              "          const docLink = document.createElement('div');\n",
              "          docLink.innerHTML = docLinkHtml;\n",
              "          element.appendChild(docLink);\n",
              "        }\n",
              "      </script>\n",
              "    </div>\n",
              "  </div>\n",
              "  "
            ]
          },
          "metadata": {},
          "execution_count": 23
        }
      ]
    },
    {
      "cell_type": "code",
      "source": [
        "pred_tags[0]"
      ],
      "metadata": {
        "colab": {
          "base_uri": "https://localhost:8080/",
          "height": 35
        },
        "id": "dnPm8V4J9Lem",
        "outputId": "420bc39d-5130-4d22-9630-7b65fa27ceae"
      },
      "execution_count": null,
      "outputs": [
        {
          "output_type": "execute_result",
          "data": {
            "text/plain": [
              "' #NFT #NFTdrop #NFTs #NFTgiveaway'"
            ],
            "application/vnd.google.colaboratory.intrinsic+json": {
              "type": "string"
            }
          },
          "metadata": {},
          "execution_count": 24
        }
      ]
    },
    {
      "cell_type": "code",
      "source": [
        "pred_tags[4]"
      ],
      "metadata": {
        "colab": {
          "base_uri": "https://localhost:8080/",
          "height": 35
        },
        "id": "yD3SWQcRzdKd",
        "outputId": "fe0b7b96-efe0-4ea7-8fe9-236636fff2ef"
      },
      "execution_count": null,
      "outputs": [
        {
          "output_type": "execute_result",
          "data": {
            "text/plain": [
              "' #travel #vacation #adventure #explore #wanderlust'"
            ],
            "application/vnd.google.colaboratory.intrinsic+json": {
              "type": "string"
            }
          },
          "metadata": {},
          "execution_count": 25
        }
      ]
    },
    {
      "cell_type": "code",
      "source": [
        "df['Text'][57]"
      ],
      "metadata": {
        "colab": {
          "base_uri": "https://localhost:8080/",
          "height": 53
        },
        "id": "CW-Qi2nRbZ7Z",
        "outputId": "75c7b922-a438-46fc-96e6-dbabcad48670"
      },
      "execution_count": null,
      "outputs": [
        {
          "output_type": "execute_result",
          "data": {
            "text/plain": [
              "'This is the Belarusian battalion named after Kastus Kalinouski in Ukraine. Belarusian heroes who are helping Ukrainians defend themselves. I have friends there and I know that these people are ready to risk their lives to protect both Ukraine and Belarus'"
            ],
            "application/vnd.google.colaboratory.intrinsic+json": {
              "type": "string"
            }
          },
          "metadata": {},
          "execution_count": 26
        }
      ]
    },
    {
      "cell_type": "markdown",
      "source": [
        "# Accuracy, Precision, Recall, F-Score"
      ],
      "metadata": {
        "id": "fAuFcL0a9LqO"
      }
    },
    {
      "cell_type": "code",
      "source": [
        "def get_me_my_metrics(test, predicted):\n",
        "  accuracy = 0\n",
        "  precision = 0\n",
        "  recall = 0\n",
        "  for i in range(len(test)):\n",
        "    a_set = set(test[i].lower().split())\n",
        "    p_set = set(predicted[i].lower().replace('\\n', ' ').split())\n",
        "    # print(p_set)\n",
        "    common_tags = a_set.intersection(p_set)\n",
        "    if len(common_tags)>0:\n",
        "      accuracy+=1\n",
        "    precision += len(common_tags)/len(a_set)\n",
        "    recall += len(common_tags)/len(p_set)\n",
        "  \n",
        "  accuracy = accuracy/len(test)\n",
        "  precision = precision/len(test)\n",
        "  recall = recall/len(test)\n",
        "  f_score = 2*((precision*recall)/(precision+recall))\n",
        "\n",
        "  return accuracy, precision, recall, f_score"
      ],
      "metadata": {
        "id": "BVBpJ2kD9QDp"
      },
      "execution_count": null,
      "outputs": []
    },
    {
      "cell_type": "code",
      "source": [
        "accuracy, precision, recall, f_score = get_me_my_metrics(df['Hashtags'], df['Zero-shot Hashtaghs'])\n",
        "accuracy, precision, recall, f_score"
      ],
      "metadata": {
        "colab": {
          "base_uri": "https://localhost:8080/"
        },
        "id": "bQfAph7r-0Bx",
        "outputId": "571a4a0f-12df-4cf7-bc08-bcd7404c67e8"
      },
      "execution_count": null,
      "outputs": [
        {
          "output_type": "execute_result",
          "data": {
            "text/plain": [
              "(0.5916666666666667,\n",
              " 0.3722000684500685,\n",
              " 0.23843253968253955,\n",
              " 0.29066448928090216)"
            ]
          },
          "metadata": {},
          "execution_count": 28
        }
      ]
    },
    {
      "cell_type": "code",
      "source": [
        "accuracy, precision, recall, f_score = get_me_my_metrics(test_hashtags, pred_tags)\n",
        "accuracy, precision, recall, f_score"
      ],
      "metadata": {
        "colab": {
          "base_uri": "https://localhost:8080/"
        },
        "id": "sW_hXjgO-_n_",
        "outputId": "c5e5440d-f429-4cb2-924c-8f0898e5ebc1"
      },
      "execution_count": null,
      "outputs": [
        {
          "output_type": "execute_result",
          "data": {
            "text/plain": [
              "(0.7333333333333333,\n",
              " 0.4930952380952379,\n",
              " 0.2706032877797584,\n",
              " 0.34943944003095995)"
            ]
          },
          "metadata": {},
          "execution_count": 29
        }
      ]
    },
    {
      "cell_type": "markdown",
      "source": [
        "# Final Results"
      ],
      "metadata": {
        "id": "bVei2iu714LS"
      }
    },
    {
      "cell_type": "code",
      "source": [
        "import pandas as pd\n",
        "import io\n",
        "import requests\n",
        "\n",
        "data_url = \"https://raw.githubusercontent.com/satwikgoyal/Hashtag-Prediction/main/tweet_prompts.csv\"\n",
        "s = requests.get(data_url).content\n",
        "df = pd.read_csv(io.StringIO(s.decode('utf-8')))"
      ],
      "metadata": {
        "id": "nNKC9otT15Tr"
      },
      "execution_count": null,
      "outputs": []
    },
    {
      "cell_type": "code",
      "source": [
        "df.head()"
      ],
      "metadata": {
        "colab": {
          "base_uri": "https://localhost:8080/",
          "height": 206
        },
        "id": "hdHA1eu_SXPc",
        "outputId": "5a28e542-3b63-4fb6-b2f5-777b4c75ea62"
      },
      "execution_count": null,
      "outputs": [
        {
          "output_type": "execute_result",
          "data": {
            "text/plain": [
              "   Unnamed: 0                                             prompt  \\\n",
              "0           0  starfish beat jmarkz87 in a head to head chall...   \n",
              "1           1  very good project wow @ @platonkoreanis pretty...   \n",
              "2           2  wow @ @platonkoreanis pretty impressive , test...   \n",
              "3           3  very good project , i wish you more success in...   \n",
              "4           4  this wonderful project . @sumas72181326 @ripon...   \n",
              "\n",
              "                                    completion  \n",
              "0  #itsmychance #prizes #1stplace #competition  \n",
              "1                                 #competition  \n",
              "2                                 #competition  \n",
              "3                                 #competition  \n",
              "4                                 #competition  "
            ],
            "text/html": [
              "\n",
              "  <div id=\"df-df279d34-b607-4dd2-80cc-d8d71b8fa6e7\">\n",
              "    <div class=\"colab-df-container\">\n",
              "      <div>\n",
              "<style scoped>\n",
              "    .dataframe tbody tr th:only-of-type {\n",
              "        vertical-align: middle;\n",
              "    }\n",
              "\n",
              "    .dataframe tbody tr th {\n",
              "        vertical-align: top;\n",
              "    }\n",
              "\n",
              "    .dataframe thead th {\n",
              "        text-align: right;\n",
              "    }\n",
              "</style>\n",
              "<table border=\"1\" class=\"dataframe\">\n",
              "  <thead>\n",
              "    <tr style=\"text-align: right;\">\n",
              "      <th></th>\n",
              "      <th>Unnamed: 0</th>\n",
              "      <th>prompt</th>\n",
              "      <th>completion</th>\n",
              "    </tr>\n",
              "  </thead>\n",
              "  <tbody>\n",
              "    <tr>\n",
              "      <th>0</th>\n",
              "      <td>0</td>\n",
              "      <td>starfish beat jmarkz87 in a head to head chall...</td>\n",
              "      <td>#itsmychance #prizes #1stplace #competition</td>\n",
              "    </tr>\n",
              "    <tr>\n",
              "      <th>1</th>\n",
              "      <td>1</td>\n",
              "      <td>very good project wow @ @platonkoreanis pretty...</td>\n",
              "      <td>#competition</td>\n",
              "    </tr>\n",
              "    <tr>\n",
              "      <th>2</th>\n",
              "      <td>2</td>\n",
              "      <td>wow @ @platonkoreanis pretty impressive , test...</td>\n",
              "      <td>#competition</td>\n",
              "    </tr>\n",
              "    <tr>\n",
              "      <th>3</th>\n",
              "      <td>3</td>\n",
              "      <td>very good project , i wish you more success in...</td>\n",
              "      <td>#competition</td>\n",
              "    </tr>\n",
              "    <tr>\n",
              "      <th>4</th>\n",
              "      <td>4</td>\n",
              "      <td>this wonderful project . @sumas72181326 @ripon...</td>\n",
              "      <td>#competition</td>\n",
              "    </tr>\n",
              "  </tbody>\n",
              "</table>\n",
              "</div>\n",
              "      <button class=\"colab-df-convert\" onclick=\"convertToInteractive('df-df279d34-b607-4dd2-80cc-d8d71b8fa6e7')\"\n",
              "              title=\"Convert this dataframe to an interactive table.\"\n",
              "              style=\"display:none;\">\n",
              "        \n",
              "  <svg xmlns=\"http://www.w3.org/2000/svg\" height=\"24px\"viewBox=\"0 0 24 24\"\n",
              "       width=\"24px\">\n",
              "    <path d=\"M0 0h24v24H0V0z\" fill=\"none\"/>\n",
              "    <path d=\"M18.56 5.44l.94 2.06.94-2.06 2.06-.94-2.06-.94-.94-2.06-.94 2.06-2.06.94zm-11 1L8.5 8.5l.94-2.06 2.06-.94-2.06-.94L8.5 2.5l-.94 2.06-2.06.94zm10 10l.94 2.06.94-2.06 2.06-.94-2.06-.94-.94-2.06-.94 2.06-2.06.94z\"/><path d=\"M17.41 7.96l-1.37-1.37c-.4-.4-.92-.59-1.43-.59-.52 0-1.04.2-1.43.59L10.3 9.45l-7.72 7.72c-.78.78-.78 2.05 0 2.83L4 21.41c.39.39.9.59 1.41.59.51 0 1.02-.2 1.41-.59l7.78-7.78 2.81-2.81c.8-.78.8-2.07 0-2.86zM5.41 20L4 18.59l7.72-7.72 1.47 1.35L5.41 20z\"/>\n",
              "  </svg>\n",
              "      </button>\n",
              "      \n",
              "  <style>\n",
              "    .colab-df-container {\n",
              "      display:flex;\n",
              "      flex-wrap:wrap;\n",
              "      gap: 12px;\n",
              "    }\n",
              "\n",
              "    .colab-df-convert {\n",
              "      background-color: #E8F0FE;\n",
              "      border: none;\n",
              "      border-radius: 50%;\n",
              "      cursor: pointer;\n",
              "      display: none;\n",
              "      fill: #1967D2;\n",
              "      height: 32px;\n",
              "      padding: 0 0 0 0;\n",
              "      width: 32px;\n",
              "    }\n",
              "\n",
              "    .colab-df-convert:hover {\n",
              "      background-color: #E2EBFA;\n",
              "      box-shadow: 0px 1px 2px rgba(60, 64, 67, 0.3), 0px 1px 3px 1px rgba(60, 64, 67, 0.15);\n",
              "      fill: #174EA6;\n",
              "    }\n",
              "\n",
              "    [theme=dark] .colab-df-convert {\n",
              "      background-color: #3B4455;\n",
              "      fill: #D2E3FC;\n",
              "    }\n",
              "\n",
              "    [theme=dark] .colab-df-convert:hover {\n",
              "      background-color: #434B5C;\n",
              "      box-shadow: 0px 1px 3px 1px rgba(0, 0, 0, 0.15);\n",
              "      filter: drop-shadow(0px 1px 2px rgba(0, 0, 0, 0.3));\n",
              "      fill: #FFFFFF;\n",
              "    }\n",
              "  </style>\n",
              "\n",
              "      <script>\n",
              "        const buttonEl =\n",
              "          document.querySelector('#df-df279d34-b607-4dd2-80cc-d8d71b8fa6e7 button.colab-df-convert');\n",
              "        buttonEl.style.display =\n",
              "          google.colab.kernel.accessAllowed ? 'block' : 'none';\n",
              "\n",
              "        async function convertToInteractive(key) {\n",
              "          const element = document.querySelector('#df-df279d34-b607-4dd2-80cc-d8d71b8fa6e7');\n",
              "          const dataTable =\n",
              "            await google.colab.kernel.invokeFunction('convertToInteractive',\n",
              "                                                     [key], {});\n",
              "          if (!dataTable) return;\n",
              "\n",
              "          const docLinkHtml = 'Like what you see? Visit the ' +\n",
              "            '<a target=\"_blank\" href=https://colab.research.google.com/notebooks/data_table.ipynb>data table notebook</a>'\n",
              "            + ' to learn more about interactive tables.';\n",
              "          element.innerHTML = '';\n",
              "          dataTable['output_type'] = 'display_data';\n",
              "          await google.colab.output.renderOutput(dataTable, element);\n",
              "          const docLink = document.createElement('div');\n",
              "          docLink.innerHTML = docLinkHtml;\n",
              "          element.appendChild(docLink);\n",
              "        }\n",
              "      </script>\n",
              "    </div>\n",
              "  </div>\n",
              "  "
            ]
          },
          "metadata": {},
          "execution_count": 21
        }
      ]
    },
    {
      "cell_type": "code",
      "source": [
        "df.drop(df.columns[df.columns.str.contains('unnamed',case = False)],axis = 1, inplace = True)"
      ],
      "metadata": {
        "id": "sSUj_lihSY6V"
      },
      "execution_count": null,
      "outputs": []
    },
    {
      "cell_type": "code",
      "source": [
        "df.head()"
      ],
      "metadata": {
        "colab": {
          "base_uri": "https://localhost:8080/",
          "height": 206
        },
        "id": "X-mMrTzvSpkK",
        "outputId": "14563b49-0429-44e2-fab8-6d8f2f5044ae"
      },
      "execution_count": null,
      "outputs": [
        {
          "output_type": "execute_result",
          "data": {
            "text/plain": [
              "                                              prompt  \\\n",
              "0  starfish beat jmarkz87 in a head to head chall...   \n",
              "1  very good project wow @ @platonkoreanis pretty...   \n",
              "2  wow @ @platonkoreanis pretty impressive , test...   \n",
              "3  very good project , i wish you more success in...   \n",
              "4  this wonderful project . @sumas72181326 @ripon...   \n",
              "\n",
              "                                    completion  \n",
              "0  #itsmychance #prizes #1stplace #competition  \n",
              "1                                 #competition  \n",
              "2                                 #competition  \n",
              "3                                 #competition  \n",
              "4                                 #competition  "
            ],
            "text/html": [
              "\n",
              "  <div id=\"df-a2472484-b9cb-4dc0-849c-22797d631775\">\n",
              "    <div class=\"colab-df-container\">\n",
              "      <div>\n",
              "<style scoped>\n",
              "    .dataframe tbody tr th:only-of-type {\n",
              "        vertical-align: middle;\n",
              "    }\n",
              "\n",
              "    .dataframe tbody tr th {\n",
              "        vertical-align: top;\n",
              "    }\n",
              "\n",
              "    .dataframe thead th {\n",
              "        text-align: right;\n",
              "    }\n",
              "</style>\n",
              "<table border=\"1\" class=\"dataframe\">\n",
              "  <thead>\n",
              "    <tr style=\"text-align: right;\">\n",
              "      <th></th>\n",
              "      <th>prompt</th>\n",
              "      <th>completion</th>\n",
              "    </tr>\n",
              "  </thead>\n",
              "  <tbody>\n",
              "    <tr>\n",
              "      <th>0</th>\n",
              "      <td>starfish beat jmarkz87 in a head to head chall...</td>\n",
              "      <td>#itsmychance #prizes #1stplace #competition</td>\n",
              "    </tr>\n",
              "    <tr>\n",
              "      <th>1</th>\n",
              "      <td>very good project wow @ @platonkoreanis pretty...</td>\n",
              "      <td>#competition</td>\n",
              "    </tr>\n",
              "    <tr>\n",
              "      <th>2</th>\n",
              "      <td>wow @ @platonkoreanis pretty impressive , test...</td>\n",
              "      <td>#competition</td>\n",
              "    </tr>\n",
              "    <tr>\n",
              "      <th>3</th>\n",
              "      <td>very good project , i wish you more success in...</td>\n",
              "      <td>#competition</td>\n",
              "    </tr>\n",
              "    <tr>\n",
              "      <th>4</th>\n",
              "      <td>this wonderful project . @sumas72181326 @ripon...</td>\n",
              "      <td>#competition</td>\n",
              "    </tr>\n",
              "  </tbody>\n",
              "</table>\n",
              "</div>\n",
              "      <button class=\"colab-df-convert\" onclick=\"convertToInteractive('df-a2472484-b9cb-4dc0-849c-22797d631775')\"\n",
              "              title=\"Convert this dataframe to an interactive table.\"\n",
              "              style=\"display:none;\">\n",
              "        \n",
              "  <svg xmlns=\"http://www.w3.org/2000/svg\" height=\"24px\"viewBox=\"0 0 24 24\"\n",
              "       width=\"24px\">\n",
              "    <path d=\"M0 0h24v24H0V0z\" fill=\"none\"/>\n",
              "    <path d=\"M18.56 5.44l.94 2.06.94-2.06 2.06-.94-2.06-.94-.94-2.06-.94 2.06-2.06.94zm-11 1L8.5 8.5l.94-2.06 2.06-.94-2.06-.94L8.5 2.5l-.94 2.06-2.06.94zm10 10l.94 2.06.94-2.06 2.06-.94-2.06-.94-.94-2.06-.94 2.06-2.06.94z\"/><path d=\"M17.41 7.96l-1.37-1.37c-.4-.4-.92-.59-1.43-.59-.52 0-1.04.2-1.43.59L10.3 9.45l-7.72 7.72c-.78.78-.78 2.05 0 2.83L4 21.41c.39.39.9.59 1.41.59.51 0 1.02-.2 1.41-.59l7.78-7.78 2.81-2.81c.8-.78.8-2.07 0-2.86zM5.41 20L4 18.59l7.72-7.72 1.47 1.35L5.41 20z\"/>\n",
              "  </svg>\n",
              "      </button>\n",
              "      \n",
              "  <style>\n",
              "    .colab-df-container {\n",
              "      display:flex;\n",
              "      flex-wrap:wrap;\n",
              "      gap: 12px;\n",
              "    }\n",
              "\n",
              "    .colab-df-convert {\n",
              "      background-color: #E8F0FE;\n",
              "      border: none;\n",
              "      border-radius: 50%;\n",
              "      cursor: pointer;\n",
              "      display: none;\n",
              "      fill: #1967D2;\n",
              "      height: 32px;\n",
              "      padding: 0 0 0 0;\n",
              "      width: 32px;\n",
              "    }\n",
              "\n",
              "    .colab-df-convert:hover {\n",
              "      background-color: #E2EBFA;\n",
              "      box-shadow: 0px 1px 2px rgba(60, 64, 67, 0.3), 0px 1px 3px 1px rgba(60, 64, 67, 0.15);\n",
              "      fill: #174EA6;\n",
              "    }\n",
              "\n",
              "    [theme=dark] .colab-df-convert {\n",
              "      background-color: #3B4455;\n",
              "      fill: #D2E3FC;\n",
              "    }\n",
              "\n",
              "    [theme=dark] .colab-df-convert:hover {\n",
              "      background-color: #434B5C;\n",
              "      box-shadow: 0px 1px 3px 1px rgba(0, 0, 0, 0.15);\n",
              "      filter: drop-shadow(0px 1px 2px rgba(0, 0, 0, 0.3));\n",
              "      fill: #FFFFFF;\n",
              "    }\n",
              "  </style>\n",
              "\n",
              "      <script>\n",
              "        const buttonEl =\n",
              "          document.querySelector('#df-a2472484-b9cb-4dc0-849c-22797d631775 button.colab-df-convert');\n",
              "        buttonEl.style.display =\n",
              "          google.colab.kernel.accessAllowed ? 'block' : 'none';\n",
              "\n",
              "        async function convertToInteractive(key) {\n",
              "          const element = document.querySelector('#df-a2472484-b9cb-4dc0-849c-22797d631775');\n",
              "          const dataTable =\n",
              "            await google.colab.kernel.invokeFunction('convertToInteractive',\n",
              "                                                     [key], {});\n",
              "          if (!dataTable) return;\n",
              "\n",
              "          const docLinkHtml = 'Like what you see? Visit the ' +\n",
              "            '<a target=\"_blank\" href=https://colab.research.google.com/notebooks/data_table.ipynb>data table notebook</a>'\n",
              "            + ' to learn more about interactive tables.';\n",
              "          element.innerHTML = '';\n",
              "          dataTable['output_type'] = 'display_data';\n",
              "          await google.colab.output.renderOutput(dataTable, element);\n",
              "          const docLink = document.createElement('div');\n",
              "          docLink.innerHTML = docLinkHtml;\n",
              "          element.appendChild(docLink);\n",
              "        }\n",
              "      </script>\n",
              "    </div>\n",
              "  </div>\n",
              "  "
            ]
          },
          "metadata": {},
          "execution_count": 23
        }
      ]
    },
    {
      "cell_type": "code",
      "source": [
        "count = 0\n",
        "for i in range(len(df['completion'])):\n",
        "  if type(df['completion'][i]) == type(''):\n",
        "    count += len(df['completion'][i].split())\n",
        "\n",
        "print('Average Hashtags:', count/len(df['prompt']))"
      ],
      "metadata": {
        "colab": {
          "base_uri": "https://localhost:8080/"
        },
        "id": "-a8j7WWBmqHN",
        "outputId": "dcdb6678-156d-4953-8265-9b0fb893dddf"
      },
      "execution_count": null,
      "outputs": [
        {
          "output_type": "stream",
          "name": "stdout",
          "text": [
            "Average Hashtags: 4.0870672097759675\n"
          ]
        }
      ]
    },
    {
      "cell_type": "code",
      "source": [
        "from sklearn.model_selection import train_test_split\n",
        "\n",
        "train, test = train_test_split(df, test_size=0.6)"
      ],
      "metadata": {
        "id": "oytJ5MyKSqiy"
      },
      "execution_count": null,
      "outputs": []
    },
    {
      "cell_type": "code",
      "source": [
        "test.head()"
      ],
      "metadata": {
        "colab": {
          "base_uri": "https://localhost:8080/",
          "height": 206
        },
        "id": "5tafoyQ-S4g5",
        "outputId": "d7cba942-1488-409d-b0aa-db22811d2b6f"
      },
      "execution_count": null,
      "outputs": [
        {
          "output_type": "execute_result",
          "data": {
            "text/plain": [
              "                                                 prompt  \\\n",
              "1099  🚀 🚀 🚀 $1,242 , 399 btcusdt longed @ $40,985 . ...   \n",
              "327   bitcoin : $41043.9 💔 - 135.46 last 1 hour ( - ...   \n",
              "1809  pounding the pavement today . . .     https://...   \n",
              "1622   interactive accessibility meetup happy hour a...   \n",
              "1596  i bambini hanno bisogno di esser amati , siamo...   \n",
              "\n",
              "                                             completion  \n",
              "1099                      #binance #btc #cryptocurrency  \n",
              "327   #bitcoinpriceupdates #bitcoin #hourlycrypto #c...  \n",
              "1809  #running #nofilter #poundingpavement #burnener...  \n",
              "1622                                        #sxsw #a11y  \n",
              "1596                                #love #tizianoferro  "
            ],
            "text/html": [
              "\n",
              "  <div id=\"df-8a43c9f0-8421-4c01-861d-aea8d20cd628\">\n",
              "    <div class=\"colab-df-container\">\n",
              "      <div>\n",
              "<style scoped>\n",
              "    .dataframe tbody tr th:only-of-type {\n",
              "        vertical-align: middle;\n",
              "    }\n",
              "\n",
              "    .dataframe tbody tr th {\n",
              "        vertical-align: top;\n",
              "    }\n",
              "\n",
              "    .dataframe thead th {\n",
              "        text-align: right;\n",
              "    }\n",
              "</style>\n",
              "<table border=\"1\" class=\"dataframe\">\n",
              "  <thead>\n",
              "    <tr style=\"text-align: right;\">\n",
              "      <th></th>\n",
              "      <th>prompt</th>\n",
              "      <th>completion</th>\n",
              "    </tr>\n",
              "  </thead>\n",
              "  <tbody>\n",
              "    <tr>\n",
              "      <th>1099</th>\n",
              "      <td>🚀 🚀 🚀 $1,242 , 399 btcusdt longed @ $40,985 . ...</td>\n",
              "      <td>#binance #btc #cryptocurrency</td>\n",
              "    </tr>\n",
              "    <tr>\n",
              "      <th>327</th>\n",
              "      <td>bitcoin : $41043.9 💔 - 135.46 last 1 hour ( - ...</td>\n",
              "      <td>#bitcoinpriceupdates #bitcoin #hourlycrypto #c...</td>\n",
              "    </tr>\n",
              "    <tr>\n",
              "      <th>1809</th>\n",
              "      <td>pounding the pavement today . . .     https://...</td>\n",
              "      <td>#running #nofilter #poundingpavement #burnener...</td>\n",
              "    </tr>\n",
              "    <tr>\n",
              "      <th>1622</th>\n",
              "      <td>interactive accessibility meetup happy hour a...</td>\n",
              "      <td>#sxsw #a11y</td>\n",
              "    </tr>\n",
              "    <tr>\n",
              "      <th>1596</th>\n",
              "      <td>i bambini hanno bisogno di esser amati , siamo...</td>\n",
              "      <td>#love #tizianoferro</td>\n",
              "    </tr>\n",
              "  </tbody>\n",
              "</table>\n",
              "</div>\n",
              "      <button class=\"colab-df-convert\" onclick=\"convertToInteractive('df-8a43c9f0-8421-4c01-861d-aea8d20cd628')\"\n",
              "              title=\"Convert this dataframe to an interactive table.\"\n",
              "              style=\"display:none;\">\n",
              "        \n",
              "  <svg xmlns=\"http://www.w3.org/2000/svg\" height=\"24px\"viewBox=\"0 0 24 24\"\n",
              "       width=\"24px\">\n",
              "    <path d=\"M0 0h24v24H0V0z\" fill=\"none\"/>\n",
              "    <path d=\"M18.56 5.44l.94 2.06.94-2.06 2.06-.94-2.06-.94-.94-2.06-.94 2.06-2.06.94zm-11 1L8.5 8.5l.94-2.06 2.06-.94-2.06-.94L8.5 2.5l-.94 2.06-2.06.94zm10 10l.94 2.06.94-2.06 2.06-.94-2.06-.94-.94-2.06-.94 2.06-2.06.94z\"/><path d=\"M17.41 7.96l-1.37-1.37c-.4-.4-.92-.59-1.43-.59-.52 0-1.04.2-1.43.59L10.3 9.45l-7.72 7.72c-.78.78-.78 2.05 0 2.83L4 21.41c.39.39.9.59 1.41.59.51 0 1.02-.2 1.41-.59l7.78-7.78 2.81-2.81c.8-.78.8-2.07 0-2.86zM5.41 20L4 18.59l7.72-7.72 1.47 1.35L5.41 20z\"/>\n",
              "  </svg>\n",
              "      </button>\n",
              "      \n",
              "  <style>\n",
              "    .colab-df-container {\n",
              "      display:flex;\n",
              "      flex-wrap:wrap;\n",
              "      gap: 12px;\n",
              "    }\n",
              "\n",
              "    .colab-df-convert {\n",
              "      background-color: #E8F0FE;\n",
              "      border: none;\n",
              "      border-radius: 50%;\n",
              "      cursor: pointer;\n",
              "      display: none;\n",
              "      fill: #1967D2;\n",
              "      height: 32px;\n",
              "      padding: 0 0 0 0;\n",
              "      width: 32px;\n",
              "    }\n",
              "\n",
              "    .colab-df-convert:hover {\n",
              "      background-color: #E2EBFA;\n",
              "      box-shadow: 0px 1px 2px rgba(60, 64, 67, 0.3), 0px 1px 3px 1px rgba(60, 64, 67, 0.15);\n",
              "      fill: #174EA6;\n",
              "    }\n",
              "\n",
              "    [theme=dark] .colab-df-convert {\n",
              "      background-color: #3B4455;\n",
              "      fill: #D2E3FC;\n",
              "    }\n",
              "\n",
              "    [theme=dark] .colab-df-convert:hover {\n",
              "      background-color: #434B5C;\n",
              "      box-shadow: 0px 1px 3px 1px rgba(0, 0, 0, 0.15);\n",
              "      filter: drop-shadow(0px 1px 2px rgba(0, 0, 0, 0.3));\n",
              "      fill: #FFFFFF;\n",
              "    }\n",
              "  </style>\n",
              "\n",
              "      <script>\n",
              "        const buttonEl =\n",
              "          document.querySelector('#df-8a43c9f0-8421-4c01-861d-aea8d20cd628 button.colab-df-convert');\n",
              "        buttonEl.style.display =\n",
              "          google.colab.kernel.accessAllowed ? 'block' : 'none';\n",
              "\n",
              "        async function convertToInteractive(key) {\n",
              "          const element = document.querySelector('#df-8a43c9f0-8421-4c01-861d-aea8d20cd628');\n",
              "          const dataTable =\n",
              "            await google.colab.kernel.invokeFunction('convertToInteractive',\n",
              "                                                     [key], {});\n",
              "          if (!dataTable) return;\n",
              "\n",
              "          const docLinkHtml = 'Like what you see? Visit the ' +\n",
              "            '<a target=\"_blank\" href=https://colab.research.google.com/notebooks/data_table.ipynb>data table notebook</a>'\n",
              "            + ' to learn more about interactive tables.';\n",
              "          element.innerHTML = '';\n",
              "          dataTable['output_type'] = 'display_data';\n",
              "          await google.colab.output.renderOutput(dataTable, element);\n",
              "          const docLink = document.createElement('div');\n",
              "          docLink.innerHTML = docLinkHtml;\n",
              "          element.appendChild(docLink);\n",
              "        }\n",
              "      </script>\n",
              "    </div>\n",
              "  </div>\n",
              "  "
            ]
          },
          "metadata": {},
          "execution_count": 7
        }
      ]
    },
    {
      "cell_type": "code",
      "source": [
        "train.head()"
      ],
      "metadata": {
        "id": "xDDTLpL_S68b",
        "colab": {
          "base_uri": "https://localhost:8080/",
          "height": 206
        },
        "outputId": "e6ed1844-c393-417d-c788-e9e8ac905008"
      },
      "execution_count": null,
      "outputs": [
        {
          "output_type": "execute_result",
          "data": {
            "text/plain": [
              "                                                 prompt  \\\n",
              "399   mais uma vaga quentinha ! ! ! pr : 8812 link :...   \n",
              "1543                            https://t.co/koogvwmbjm   \n",
              "1826  enter to win a $50 + makeup prize pack + journ...   \n",
              "1664  goodnight to the bad guy    https://t.co/qlbf2...   \n",
              "563   it ’ s sad that women are still not being prot...   \n",
              "\n",
              "                                           completion  \n",
              "399   #backendbrvagas #clt #python #java #remoto #git  \n",
              "1543                                        #art #art  \n",
              "1826                         #giveaway #makeup #books  \n",
              "1664                    #scotthall #wcw #ripscotthall  \n",
              "563   #endgenderbasedviolence #metoo #istandwithwomen  "
            ],
            "text/html": [
              "\n",
              "  <div id=\"df-5ff9349a-d410-4dd8-90eb-4c190df3d442\">\n",
              "    <div class=\"colab-df-container\">\n",
              "      <div>\n",
              "<style scoped>\n",
              "    .dataframe tbody tr th:only-of-type {\n",
              "        vertical-align: middle;\n",
              "    }\n",
              "\n",
              "    .dataframe tbody tr th {\n",
              "        vertical-align: top;\n",
              "    }\n",
              "\n",
              "    .dataframe thead th {\n",
              "        text-align: right;\n",
              "    }\n",
              "</style>\n",
              "<table border=\"1\" class=\"dataframe\">\n",
              "  <thead>\n",
              "    <tr style=\"text-align: right;\">\n",
              "      <th></th>\n",
              "      <th>prompt</th>\n",
              "      <th>completion</th>\n",
              "    </tr>\n",
              "  </thead>\n",
              "  <tbody>\n",
              "    <tr>\n",
              "      <th>399</th>\n",
              "      <td>mais uma vaga quentinha ! ! ! pr : 8812 link :...</td>\n",
              "      <td>#backendbrvagas #clt #python #java #remoto #git</td>\n",
              "    </tr>\n",
              "    <tr>\n",
              "      <th>1543</th>\n",
              "      <td>https://t.co/koogvwmbjm</td>\n",
              "      <td>#art #art</td>\n",
              "    </tr>\n",
              "    <tr>\n",
              "      <th>1826</th>\n",
              "      <td>enter to win a $50 + makeup prize pack + journ...</td>\n",
              "      <td>#giveaway #makeup #books</td>\n",
              "    </tr>\n",
              "    <tr>\n",
              "      <th>1664</th>\n",
              "      <td>goodnight to the bad guy    https://t.co/qlbf2...</td>\n",
              "      <td>#scotthall #wcw #ripscotthall</td>\n",
              "    </tr>\n",
              "    <tr>\n",
              "      <th>563</th>\n",
              "      <td>it ’ s sad that women are still not being prot...</td>\n",
              "      <td>#endgenderbasedviolence #metoo #istandwithwomen</td>\n",
              "    </tr>\n",
              "  </tbody>\n",
              "</table>\n",
              "</div>\n",
              "      <button class=\"colab-df-convert\" onclick=\"convertToInteractive('df-5ff9349a-d410-4dd8-90eb-4c190df3d442')\"\n",
              "              title=\"Convert this dataframe to an interactive table.\"\n",
              "              style=\"display:none;\">\n",
              "        \n",
              "  <svg xmlns=\"http://www.w3.org/2000/svg\" height=\"24px\"viewBox=\"0 0 24 24\"\n",
              "       width=\"24px\">\n",
              "    <path d=\"M0 0h24v24H0V0z\" fill=\"none\"/>\n",
              "    <path d=\"M18.56 5.44l.94 2.06.94-2.06 2.06-.94-2.06-.94-.94-2.06-.94 2.06-2.06.94zm-11 1L8.5 8.5l.94-2.06 2.06-.94-2.06-.94L8.5 2.5l-.94 2.06-2.06.94zm10 10l.94 2.06.94-2.06 2.06-.94-2.06-.94-.94-2.06-.94 2.06-2.06.94z\"/><path d=\"M17.41 7.96l-1.37-1.37c-.4-.4-.92-.59-1.43-.59-.52 0-1.04.2-1.43.59L10.3 9.45l-7.72 7.72c-.78.78-.78 2.05 0 2.83L4 21.41c.39.39.9.59 1.41.59.51 0 1.02-.2 1.41-.59l7.78-7.78 2.81-2.81c.8-.78.8-2.07 0-2.86zM5.41 20L4 18.59l7.72-7.72 1.47 1.35L5.41 20z\"/>\n",
              "  </svg>\n",
              "      </button>\n",
              "      \n",
              "  <style>\n",
              "    .colab-df-container {\n",
              "      display:flex;\n",
              "      flex-wrap:wrap;\n",
              "      gap: 12px;\n",
              "    }\n",
              "\n",
              "    .colab-df-convert {\n",
              "      background-color: #E8F0FE;\n",
              "      border: none;\n",
              "      border-radius: 50%;\n",
              "      cursor: pointer;\n",
              "      display: none;\n",
              "      fill: #1967D2;\n",
              "      height: 32px;\n",
              "      padding: 0 0 0 0;\n",
              "      width: 32px;\n",
              "    }\n",
              "\n",
              "    .colab-df-convert:hover {\n",
              "      background-color: #E2EBFA;\n",
              "      box-shadow: 0px 1px 2px rgba(60, 64, 67, 0.3), 0px 1px 3px 1px rgba(60, 64, 67, 0.15);\n",
              "      fill: #174EA6;\n",
              "    }\n",
              "\n",
              "    [theme=dark] .colab-df-convert {\n",
              "      background-color: #3B4455;\n",
              "      fill: #D2E3FC;\n",
              "    }\n",
              "\n",
              "    [theme=dark] .colab-df-convert:hover {\n",
              "      background-color: #434B5C;\n",
              "      box-shadow: 0px 1px 3px 1px rgba(0, 0, 0, 0.15);\n",
              "      filter: drop-shadow(0px 1px 2px rgba(0, 0, 0, 0.3));\n",
              "      fill: #FFFFFF;\n",
              "    }\n",
              "  </style>\n",
              "\n",
              "      <script>\n",
              "        const buttonEl =\n",
              "          document.querySelector('#df-5ff9349a-d410-4dd8-90eb-4c190df3d442 button.colab-df-convert');\n",
              "        buttonEl.style.display =\n",
              "          google.colab.kernel.accessAllowed ? 'block' : 'none';\n",
              "\n",
              "        async function convertToInteractive(key) {\n",
              "          const element = document.querySelector('#df-5ff9349a-d410-4dd8-90eb-4c190df3d442');\n",
              "          const dataTable =\n",
              "            await google.colab.kernel.invokeFunction('convertToInteractive',\n",
              "                                                     [key], {});\n",
              "          if (!dataTable) return;\n",
              "\n",
              "          const docLinkHtml = 'Like what you see? Visit the ' +\n",
              "            '<a target=\"_blank\" href=https://colab.research.google.com/notebooks/data_table.ipynb>data table notebook</a>'\n",
              "            + ' to learn more about interactive tables.';\n",
              "          element.innerHTML = '';\n",
              "          dataTable['output_type'] = 'display_data';\n",
              "          await google.colab.output.renderOutput(dataTable, element);\n",
              "          const docLink = document.createElement('div');\n",
              "          docLink.innerHTML = docLinkHtml;\n",
              "          element.appendChild(docLink);\n",
              "        }\n",
              "      </script>\n",
              "    </div>\n",
              "  </div>\n",
              "  "
            ]
          },
          "metadata": {},
          "execution_count": 8
        }
      ]
    },
    {
      "cell_type": "code",
      "source": [
        "train.to_csv(\"train_prompts.csv\")"
      ],
      "metadata": {
        "id": "HvA2nCkpTDsX"
      },
      "execution_count": null,
      "outputs": []
    },
    {
      "cell_type": "code",
      "source": [
        "from google.colab import files\n",
        "\n",
        "files.download('train_prompts.csv')"
      ],
      "metadata": {
        "colab": {
          "base_uri": "https://localhost:8080/",
          "height": 17
        },
        "id": "GTHTrwLbToCl",
        "outputId": "e1515a5c-f3dc-4fbd-fd7f-c18ba6e2b38f"
      },
      "execution_count": null,
      "outputs": [
        {
          "output_type": "display_data",
          "data": {
            "text/plain": [
              "<IPython.core.display.Javascript object>"
            ],
            "application/javascript": [
              "\n",
              "    async function download(id, filename, size) {\n",
              "      if (!google.colab.kernel.accessAllowed) {\n",
              "        return;\n",
              "      }\n",
              "      const div = document.createElement('div');\n",
              "      const label = document.createElement('label');\n",
              "      label.textContent = `Downloading \"${filename}\": `;\n",
              "      div.appendChild(label);\n",
              "      const progress = document.createElement('progress');\n",
              "      progress.max = size;\n",
              "      div.appendChild(progress);\n",
              "      document.body.appendChild(div);\n",
              "\n",
              "      const buffers = [];\n",
              "      let downloaded = 0;\n",
              "\n",
              "      const channel = await google.colab.kernel.comms.open(id);\n",
              "      // Send a message to notify the kernel that we're ready.\n",
              "      channel.send({})\n",
              "\n",
              "      for await (const message of channel.messages) {\n",
              "        // Send a message to notify the kernel that we're ready.\n",
              "        channel.send({})\n",
              "        if (message.buffers) {\n",
              "          for (const buffer of message.buffers) {\n",
              "            buffers.push(buffer);\n",
              "            downloaded += buffer.byteLength;\n",
              "            progress.value = downloaded;\n",
              "          }\n",
              "        }\n",
              "      }\n",
              "      const blob = new Blob(buffers, {type: 'application/binary'});\n",
              "      const a = document.createElement('a');\n",
              "      a.href = window.URL.createObjectURL(blob);\n",
              "      a.download = filename;\n",
              "      div.appendChild(a);\n",
              "      a.click();\n",
              "      div.remove();\n",
              "    }\n",
              "  "
            ]
          },
          "metadata": {}
        },
        {
          "output_type": "display_data",
          "data": {
            "text/plain": [
              "<IPython.core.display.Javascript object>"
            ],
            "application/javascript": [
              "download(\"download_46fd9d13-fcf2-4777-b3ec-5e8f740d3bcf\", \"train_prompts.csv\", 155439)"
            ]
          },
          "metadata": {}
        }
      ]
    },
    {
      "cell_type": "code",
      "source": [
        "test.to_csv(\"test.csv\")\n",
        "files.download('test.csv')"
      ],
      "metadata": {
        "id": "omm3YtoZUayF",
        "outputId": "868ccf4c-3a6d-4e20-c763-c37ef5c441b3",
        "colab": {
          "base_uri": "https://localhost:8080/",
          "height": 17
        }
      },
      "execution_count": null,
      "outputs": [
        {
          "output_type": "display_data",
          "data": {
            "text/plain": [
              "<IPython.core.display.Javascript object>"
            ],
            "application/javascript": [
              "\n",
              "    async function download(id, filename, size) {\n",
              "      if (!google.colab.kernel.accessAllowed) {\n",
              "        return;\n",
              "      }\n",
              "      const div = document.createElement('div');\n",
              "      const label = document.createElement('label');\n",
              "      label.textContent = `Downloading \"${filename}\": `;\n",
              "      div.appendChild(label);\n",
              "      const progress = document.createElement('progress');\n",
              "      progress.max = size;\n",
              "      div.appendChild(progress);\n",
              "      document.body.appendChild(div);\n",
              "\n",
              "      const buffers = [];\n",
              "      let downloaded = 0;\n",
              "\n",
              "      const channel = await google.colab.kernel.comms.open(id);\n",
              "      // Send a message to notify the kernel that we're ready.\n",
              "      channel.send({})\n",
              "\n",
              "      for await (const message of channel.messages) {\n",
              "        // Send a message to notify the kernel that we're ready.\n",
              "        channel.send({})\n",
              "        if (message.buffers) {\n",
              "          for (const buffer of message.buffers) {\n",
              "            buffers.push(buffer);\n",
              "            downloaded += buffer.byteLength;\n",
              "            progress.value = downloaded;\n",
              "          }\n",
              "        }\n",
              "      }\n",
              "      const blob = new Blob(buffers, {type: 'application/binary'});\n",
              "      const a = document.createElement('a');\n",
              "      a.href = window.URL.createObjectURL(blob);\n",
              "      a.download = filename;\n",
              "      div.appendChild(a);\n",
              "      a.click();\n",
              "      div.remove();\n",
              "    }\n",
              "  "
            ]
          },
          "metadata": {}
        },
        {
          "output_type": "display_data",
          "data": {
            "text/plain": [
              "<IPython.core.display.Javascript object>"
            ],
            "application/javascript": [
              "download(\"download_20a796a4-ede3-498a-824a-3c663f91183b\", \"test.csv\", 226645)"
            ]
          },
          "metadata": {}
        }
      ]
    },
    {
      "cell_type": "code",
      "source": [
        ""
      ],
      "metadata": {
        "id": "oXe_GzHuUfqi"
      },
      "execution_count": null,
      "outputs": []
    },
    {
      "cell_type": "markdown",
      "source": [
        "# Final Image Experiments"
      ],
      "metadata": {
        "id": "56NW4WK5pcri"
      }
    },
    {
      "cell_type": "code",
      "source": [
        "import pandas as pd\n",
        "import io\n",
        "import requests\n",
        "\n",
        "url = data_url = \"https://raw.githubusercontent.com/satwikgoyal/Hashtag-Prediction/main/Image_Dataset.csv\"\n",
        "s = requests.get(url).content\n",
        "df = pd.read_csv(io.StringIO(s.decode('utf-8')))"
      ],
      "metadata": {
        "id": "AoyeKmD1petW"
      },
      "execution_count": null,
      "outputs": []
    },
    {
      "cell_type": "code",
      "source": [
        "df.head()"
      ],
      "metadata": {
        "colab": {
          "base_uri": "https://localhost:8080/",
          "height": 337
        },
        "id": "iTgLSAM5pvoN",
        "outputId": "2750aae9-08bb-4d32-afd6-64c7b3aac980"
      },
      "execution_count": null,
      "outputs": [
        {
          "output_type": "execute_result",
          "data": {
            "text/plain": [
              "                                                Text  \\\n",
              "0  It's so interesting how powerful our utterance...   \n",
              "1                       Blessed to be ranked⭐️⭐️⭐️⭐️   \n",
              "2  And so so emotional right now.\\nJust THANK YOU.🙏🏻   \n",
              "3                 Plan the direction you want to go.   \n",
              "4  Developing your organisation’s strategic think...   \n",
              "\n",
              "                                          Image Link        Date  \\\n",
              "0  https://pbs.twimg.com/media/FReNluRXMAEP4C0?fo...  04/29/2022   \n",
              "1  https://pbs.twimg.com/media/FRh60UFXEAA32Tm?fo...  04/29/2022   \n",
              "2  https://pbs.twimg.com/media/FRg2YPzagAEqEyT?fo...  04/29/2022   \n",
              "3  https://pbs.twimg.com/media/FRxd8BhWYAA3rxy?fo...  05/02/2022   \n",
              "4  https://pbs.twimg.com/media/FRxd9jEXsAYvoeI?fo...  05/02/2022   \n",
              "\n",
              "                                            Hashtags  \\\n",
              "0            #Blessed #PlusOne #ThoughtsBecomeThings   \n",
              "1                          #AGTG #Blessed #Ripgranny   \n",
              "2                                #Grateful #Blessed    \n",
              "3  #determination #motivation #lifestyle #strong ...   \n",
              "4     #Strategy #Leadership #Goals #Planning #Skills   \n",
              "\n",
              "                                           Tweet URL  \n",
              "0  https://twitter.com/jessicaosgh/status/1519839...  \n",
              "1  https://twitter.com/OttisjonesIV/status/152009...  \n",
              "2  https://twitter.com/RukminiMaitra/status/15200...  \n",
              "3  https://twitter.com/OshunPublicaton/status/152...  \n",
              "4  https://twitter.com/interchangepd/status/15211...  "
            ],
            "text/html": [
              "\n",
              "  <div id=\"df-96f46d45-1935-4257-b015-92680d3efb3f\">\n",
              "    <div class=\"colab-df-container\">\n",
              "      <div>\n",
              "<style scoped>\n",
              "    .dataframe tbody tr th:only-of-type {\n",
              "        vertical-align: middle;\n",
              "    }\n",
              "\n",
              "    .dataframe tbody tr th {\n",
              "        vertical-align: top;\n",
              "    }\n",
              "\n",
              "    .dataframe thead th {\n",
              "        text-align: right;\n",
              "    }\n",
              "</style>\n",
              "<table border=\"1\" class=\"dataframe\">\n",
              "  <thead>\n",
              "    <tr style=\"text-align: right;\">\n",
              "      <th></th>\n",
              "      <th>Text</th>\n",
              "      <th>Image Link</th>\n",
              "      <th>Date</th>\n",
              "      <th>Hashtags</th>\n",
              "      <th>Tweet URL</th>\n",
              "    </tr>\n",
              "  </thead>\n",
              "  <tbody>\n",
              "    <tr>\n",
              "      <th>0</th>\n",
              "      <td>It's so interesting how powerful our utterance...</td>\n",
              "      <td>https://pbs.twimg.com/media/FReNluRXMAEP4C0?fo...</td>\n",
              "      <td>04/29/2022</td>\n",
              "      <td>#Blessed #PlusOne #ThoughtsBecomeThings</td>\n",
              "      <td>https://twitter.com/jessicaosgh/status/1519839...</td>\n",
              "    </tr>\n",
              "    <tr>\n",
              "      <th>1</th>\n",
              "      <td>Blessed to be ranked⭐️⭐️⭐️⭐️</td>\n",
              "      <td>https://pbs.twimg.com/media/FRh60UFXEAA32Tm?fo...</td>\n",
              "      <td>04/29/2022</td>\n",
              "      <td>#AGTG #Blessed #Ripgranny</td>\n",
              "      <td>https://twitter.com/OttisjonesIV/status/152009...</td>\n",
              "    </tr>\n",
              "    <tr>\n",
              "      <th>2</th>\n",
              "      <td>And so so emotional right now.\\nJust THANK YOU.🙏🏻</td>\n",
              "      <td>https://pbs.twimg.com/media/FRg2YPzagAEqEyT?fo...</td>\n",
              "      <td>04/29/2022</td>\n",
              "      <td>#Grateful #Blessed</td>\n",
              "      <td>https://twitter.com/RukminiMaitra/status/15200...</td>\n",
              "    </tr>\n",
              "    <tr>\n",
              "      <th>3</th>\n",
              "      <td>Plan the direction you want to go.</td>\n",
              "      <td>https://pbs.twimg.com/media/FRxd8BhWYAA3rxy?fo...</td>\n",
              "      <td>05/02/2022</td>\n",
              "      <td>#determination #motivation #lifestyle #strong ...</td>\n",
              "      <td>https://twitter.com/OshunPublicaton/status/152...</td>\n",
              "    </tr>\n",
              "    <tr>\n",
              "      <th>4</th>\n",
              "      <td>Developing your organisation’s strategic think...</td>\n",
              "      <td>https://pbs.twimg.com/media/FRxd9jEXsAYvoeI?fo...</td>\n",
              "      <td>05/02/2022</td>\n",
              "      <td>#Strategy #Leadership #Goals #Planning #Skills</td>\n",
              "      <td>https://twitter.com/interchangepd/status/15211...</td>\n",
              "    </tr>\n",
              "  </tbody>\n",
              "</table>\n",
              "</div>\n",
              "      <button class=\"colab-df-convert\" onclick=\"convertToInteractive('df-96f46d45-1935-4257-b015-92680d3efb3f')\"\n",
              "              title=\"Convert this dataframe to an interactive table.\"\n",
              "              style=\"display:none;\">\n",
              "        \n",
              "  <svg xmlns=\"http://www.w3.org/2000/svg\" height=\"24px\"viewBox=\"0 0 24 24\"\n",
              "       width=\"24px\">\n",
              "    <path d=\"M0 0h24v24H0V0z\" fill=\"none\"/>\n",
              "    <path d=\"M18.56 5.44l.94 2.06.94-2.06 2.06-.94-2.06-.94-.94-2.06-.94 2.06-2.06.94zm-11 1L8.5 8.5l.94-2.06 2.06-.94-2.06-.94L8.5 2.5l-.94 2.06-2.06.94zm10 10l.94 2.06.94-2.06 2.06-.94-2.06-.94-.94-2.06-.94 2.06-2.06.94z\"/><path d=\"M17.41 7.96l-1.37-1.37c-.4-.4-.92-.59-1.43-.59-.52 0-1.04.2-1.43.59L10.3 9.45l-7.72 7.72c-.78.78-.78 2.05 0 2.83L4 21.41c.39.39.9.59 1.41.59.51 0 1.02-.2 1.41-.59l7.78-7.78 2.81-2.81c.8-.78.8-2.07 0-2.86zM5.41 20L4 18.59l7.72-7.72 1.47 1.35L5.41 20z\"/>\n",
              "  </svg>\n",
              "      </button>\n",
              "      \n",
              "  <style>\n",
              "    .colab-df-container {\n",
              "      display:flex;\n",
              "      flex-wrap:wrap;\n",
              "      gap: 12px;\n",
              "    }\n",
              "\n",
              "    .colab-df-convert {\n",
              "      background-color: #E8F0FE;\n",
              "      border: none;\n",
              "      border-radius: 50%;\n",
              "      cursor: pointer;\n",
              "      display: none;\n",
              "      fill: #1967D2;\n",
              "      height: 32px;\n",
              "      padding: 0 0 0 0;\n",
              "      width: 32px;\n",
              "    }\n",
              "\n",
              "    .colab-df-convert:hover {\n",
              "      background-color: #E2EBFA;\n",
              "      box-shadow: 0px 1px 2px rgba(60, 64, 67, 0.3), 0px 1px 3px 1px rgba(60, 64, 67, 0.15);\n",
              "      fill: #174EA6;\n",
              "    }\n",
              "\n",
              "    [theme=dark] .colab-df-convert {\n",
              "      background-color: #3B4455;\n",
              "      fill: #D2E3FC;\n",
              "    }\n",
              "\n",
              "    [theme=dark] .colab-df-convert:hover {\n",
              "      background-color: #434B5C;\n",
              "      box-shadow: 0px 1px 3px 1px rgba(0, 0, 0, 0.15);\n",
              "      filter: drop-shadow(0px 1px 2px rgba(0, 0, 0, 0.3));\n",
              "      fill: #FFFFFF;\n",
              "    }\n",
              "  </style>\n",
              "\n",
              "      <script>\n",
              "        const buttonEl =\n",
              "          document.querySelector('#df-96f46d45-1935-4257-b015-92680d3efb3f button.colab-df-convert');\n",
              "        buttonEl.style.display =\n",
              "          google.colab.kernel.accessAllowed ? 'block' : 'none';\n",
              "\n",
              "        async function convertToInteractive(key) {\n",
              "          const element = document.querySelector('#df-96f46d45-1935-4257-b015-92680d3efb3f');\n",
              "          const dataTable =\n",
              "            await google.colab.kernel.invokeFunction('convertToInteractive',\n",
              "                                                     [key], {});\n",
              "          if (!dataTable) return;\n",
              "\n",
              "          const docLinkHtml = 'Like what you see? Visit the ' +\n",
              "            '<a target=\"_blank\" href=https://colab.research.google.com/notebooks/data_table.ipynb>data table notebook</a>'\n",
              "            + ' to learn more about interactive tables.';\n",
              "          element.innerHTML = '';\n",
              "          dataTable['output_type'] = 'display_data';\n",
              "          await google.colab.output.renderOutput(dataTable, element);\n",
              "          const docLink = document.createElement('div');\n",
              "          docLink.innerHTML = docLinkHtml;\n",
              "          element.appendChild(docLink);\n",
              "        }\n",
              "      </script>\n",
              "    </div>\n",
              "  </div>\n",
              "  "
            ]
          },
          "metadata": {},
          "execution_count": 8
        }
      ]
    },
    {
      "cell_type": "code",
      "source": [
        "#zero shot learning approach\n",
        "def hashtags(text, image_url):\n",
        "  prompt = '''Find hashtags for the Twitter Content\n",
        "  \n",
        "  Tweet Content: '''\n",
        "  image_text = image2text(image_url)\n",
        "  prompt +=  text + ' ' + image_text['description'] + ' ' + image_text['OCR'] + '\\nHashtags:'\n",
        "  response = openai.Completion.create(\n",
        "    engine=\"text-davinci-002\",\n",
        "    prompt=prompt,\n",
        "    temperature=0,\n",
        "    max_tokens=60,\n",
        "    top_p=1,\n",
        "    frequency_penalty=0.0,\n",
        "    presence_penalty=0.0\n",
        "  )\n",
        "  return response[\"choices\"][0][\"text\"]"
      ],
      "metadata": {
        "id": "QRokAHfVqHaO"
      },
      "execution_count": null,
      "outputs": []
    },
    {
      "cell_type": "code",
      "source": [
        "hashtag_list = []\n",
        "\n",
        "for i in range(len(df['Text'])):\n",
        "  print(i)\n",
        "  tags = hashtags(df['Text'][i], df['Image Link'][i])\n",
        "  hashtag_list.append(tags)"
      ],
      "metadata": {
        "id": "2MnP52QYrBQE"
      },
      "execution_count": null,
      "outputs": []
    },
    {
      "cell_type": "code",
      "source": [
        "df['davinci'] = hashtag_list"
      ],
      "metadata": {
        "id": "fD3GWZ0PGEka"
      },
      "execution_count": null,
      "outputs": []
    },
    {
      "cell_type": "code",
      "source": [
        "from google.colab import files\n",
        "\n",
        "df.to_csv(\"generated_hashtags.csv\")\n",
        "files.download('generated_hashtags.csv')"
      ],
      "metadata": {
        "colab": {
          "base_uri": "https://localhost:8080/",
          "height": 17
        },
        "id": "3p70mxQbXGfU",
        "outputId": "b62dc404-9ce4-4b0d-dc7b-82cc5794f6ab"
      },
      "execution_count": null,
      "outputs": [
        {
          "output_type": "display_data",
          "data": {
            "text/plain": [
              "<IPython.core.display.Javascript object>"
            ],
            "application/javascript": [
              "\n",
              "    async function download(id, filename, size) {\n",
              "      if (!google.colab.kernel.accessAllowed) {\n",
              "        return;\n",
              "      }\n",
              "      const div = document.createElement('div');\n",
              "      const label = document.createElement('label');\n",
              "      label.textContent = `Downloading \"${filename}\": `;\n",
              "      div.appendChild(label);\n",
              "      const progress = document.createElement('progress');\n",
              "      progress.max = size;\n",
              "      div.appendChild(progress);\n",
              "      document.body.appendChild(div);\n",
              "\n",
              "      const buffers = [];\n",
              "      let downloaded = 0;\n",
              "\n",
              "      const channel = await google.colab.kernel.comms.open(id);\n",
              "      // Send a message to notify the kernel that we're ready.\n",
              "      channel.send({})\n",
              "\n",
              "      for await (const message of channel.messages) {\n",
              "        // Send a message to notify the kernel that we're ready.\n",
              "        channel.send({})\n",
              "        if (message.buffers) {\n",
              "          for (const buffer of message.buffers) {\n",
              "            buffers.push(buffer);\n",
              "            downloaded += buffer.byteLength;\n",
              "            progress.value = downloaded;\n",
              "          }\n",
              "        }\n",
              "      }\n",
              "      const blob = new Blob(buffers, {type: 'application/binary'});\n",
              "      const a = document.createElement('a');\n",
              "      a.href = window.URL.createObjectURL(blob);\n",
              "      a.download = filename;\n",
              "      div.appendChild(a);\n",
              "      a.click();\n",
              "      div.remove();\n",
              "    }\n",
              "  "
            ]
          },
          "metadata": {}
        },
        {
          "output_type": "display_data",
          "data": {
            "text/plain": [
              "<IPython.core.display.Javascript object>"
            ],
            "application/javascript": [
              "download(\"download_2d2d6fa3-6b65-4c01-b11f-3409df4ce9b2\", \"generated_hashtags.csv\", 55855)"
            ]
          },
          "metadata": {}
        }
      ]
    },
    {
      "cell_type": "code",
      "source": [
        "df.head()"
      ],
      "metadata": {
        "colab": {
          "base_uri": "https://localhost:8080/",
          "height": 371
        },
        "id": "SVO5NZy8XMCa",
        "outputId": "54801726-b72c-4bdb-e422-18b7c5cb5848"
      },
      "execution_count": null,
      "outputs": [
        {
          "output_type": "execute_result",
          "data": {
            "text/plain": [
              "                                                Text  \\\n",
              "0  It's so interesting how powerful our utterance...   \n",
              "1                       Blessed to be ranked⭐️⭐️⭐️⭐️   \n",
              "2  And so so emotional right now.\\nJust THANK YOU.🙏🏻   \n",
              "3                 Plan the direction you want to go.   \n",
              "4  Developing your organisation’s strategic think...   \n",
              "\n",
              "                                          Image Link        Date  \\\n",
              "0  https://pbs.twimg.com/media/FReNluRXMAEP4C0?fo...  04/29/2022   \n",
              "1  https://pbs.twimg.com/media/FRh60UFXEAA32Tm?fo...  04/29/2022   \n",
              "2  https://pbs.twimg.com/media/FRg2YPzagAEqEyT?fo...  04/29/2022   \n",
              "3  https://pbs.twimg.com/media/FRxd8BhWYAA3rxy?fo...  05/02/2022   \n",
              "4  https://pbs.twimg.com/media/FRxd9jEXsAYvoeI?fo...  05/02/2022   \n",
              "\n",
              "                                            Hashtags  \\\n",
              "0            #Blessed #PlusOne #ThoughtsBecomeThings   \n",
              "1                          #AGTG #Blessed #Ripgranny   \n",
              "2                                #Grateful #Blessed    \n",
              "3  #determination #motivation #lifestyle #strong ...   \n",
              "4     #Strategy #Leadership #Goals #Planning #Skills   \n",
              "\n",
              "                                           Tweet URL  \\\n",
              "0  https://twitter.com/jessicaosgh/status/1519839...   \n",
              "1  https://twitter.com/OttisjonesIV/status/152009...   \n",
              "2  https://twitter.com/RukminiMaitra/status/15200...   \n",
              "3  https://twitter.com/OshunPublicaton/status/152...   \n",
              "4  https://twitter.com/interchangepd/status/15211...   \n",
              "\n",
              "                                             davinci  \n",
              "0                      #power #utterances #gratitude  \n",
              "1  \\n\\n#blessed #collage #photos #blue #shirt #lt...  \n",
              "2   #emotional #thankful #congratulations #team #...  \n",
              "3              #goals #plan #success #vehicle #route  \n",
              "4   #businessplanning #strategictthinking #KCHANG...  "
            ],
            "text/html": [
              "\n",
              "  <div id=\"df-11db1c68-1867-4c27-b416-7f0068e3583a\">\n",
              "    <div class=\"colab-df-container\">\n",
              "      <div>\n",
              "<style scoped>\n",
              "    .dataframe tbody tr th:only-of-type {\n",
              "        vertical-align: middle;\n",
              "    }\n",
              "\n",
              "    .dataframe tbody tr th {\n",
              "        vertical-align: top;\n",
              "    }\n",
              "\n",
              "    .dataframe thead th {\n",
              "        text-align: right;\n",
              "    }\n",
              "</style>\n",
              "<table border=\"1\" class=\"dataframe\">\n",
              "  <thead>\n",
              "    <tr style=\"text-align: right;\">\n",
              "      <th></th>\n",
              "      <th>Text</th>\n",
              "      <th>Image Link</th>\n",
              "      <th>Date</th>\n",
              "      <th>Hashtags</th>\n",
              "      <th>Tweet URL</th>\n",
              "      <th>davinci</th>\n",
              "    </tr>\n",
              "  </thead>\n",
              "  <tbody>\n",
              "    <tr>\n",
              "      <th>0</th>\n",
              "      <td>It's so interesting how powerful our utterance...</td>\n",
              "      <td>https://pbs.twimg.com/media/FReNluRXMAEP4C0?fo...</td>\n",
              "      <td>04/29/2022</td>\n",
              "      <td>#Blessed #PlusOne #ThoughtsBecomeThings</td>\n",
              "      <td>https://twitter.com/jessicaosgh/status/1519839...</td>\n",
              "      <td>#power #utterances #gratitude</td>\n",
              "    </tr>\n",
              "    <tr>\n",
              "      <th>1</th>\n",
              "      <td>Blessed to be ranked⭐️⭐️⭐️⭐️</td>\n",
              "      <td>https://pbs.twimg.com/media/FRh60UFXEAA32Tm?fo...</td>\n",
              "      <td>04/29/2022</td>\n",
              "      <td>#AGTG #Blessed #Ripgranny</td>\n",
              "      <td>https://twitter.com/OttisjonesIV/status/152009...</td>\n",
              "      <td>\\n\\n#blessed #collage #photos #blue #shirt #lt...</td>\n",
              "    </tr>\n",
              "    <tr>\n",
              "      <th>2</th>\n",
              "      <td>And so so emotional right now.\\nJust THANK YOU.🙏🏻</td>\n",
              "      <td>https://pbs.twimg.com/media/FRg2YPzagAEqEyT?fo...</td>\n",
              "      <td>04/29/2022</td>\n",
              "      <td>#Grateful #Blessed</td>\n",
              "      <td>https://twitter.com/RukminiMaitra/status/15200...</td>\n",
              "      <td>#emotional #thankful #congratulations #team #...</td>\n",
              "    </tr>\n",
              "    <tr>\n",
              "      <th>3</th>\n",
              "      <td>Plan the direction you want to go.</td>\n",
              "      <td>https://pbs.twimg.com/media/FRxd8BhWYAA3rxy?fo...</td>\n",
              "      <td>05/02/2022</td>\n",
              "      <td>#determination #motivation #lifestyle #strong ...</td>\n",
              "      <td>https://twitter.com/OshunPublicaton/status/152...</td>\n",
              "      <td>#goals #plan #success #vehicle #route</td>\n",
              "    </tr>\n",
              "    <tr>\n",
              "      <th>4</th>\n",
              "      <td>Developing your organisation’s strategic think...</td>\n",
              "      <td>https://pbs.twimg.com/media/FRxd9jEXsAYvoeI?fo...</td>\n",
              "      <td>05/02/2022</td>\n",
              "      <td>#Strategy #Leadership #Goals #Planning #Skills</td>\n",
              "      <td>https://twitter.com/interchangepd/status/15211...</td>\n",
              "      <td>#businessplanning #strategictthinking #KCHANG...</td>\n",
              "    </tr>\n",
              "  </tbody>\n",
              "</table>\n",
              "</div>\n",
              "      <button class=\"colab-df-convert\" onclick=\"convertToInteractive('df-11db1c68-1867-4c27-b416-7f0068e3583a')\"\n",
              "              title=\"Convert this dataframe to an interactive table.\"\n",
              "              style=\"display:none;\">\n",
              "        \n",
              "  <svg xmlns=\"http://www.w3.org/2000/svg\" height=\"24px\"viewBox=\"0 0 24 24\"\n",
              "       width=\"24px\">\n",
              "    <path d=\"M0 0h24v24H0V0z\" fill=\"none\"/>\n",
              "    <path d=\"M18.56 5.44l.94 2.06.94-2.06 2.06-.94-2.06-.94-.94-2.06-.94 2.06-2.06.94zm-11 1L8.5 8.5l.94-2.06 2.06-.94-2.06-.94L8.5 2.5l-.94 2.06-2.06.94zm10 10l.94 2.06.94-2.06 2.06-.94-2.06-.94-.94-2.06-.94 2.06-2.06.94z\"/><path d=\"M17.41 7.96l-1.37-1.37c-.4-.4-.92-.59-1.43-.59-.52 0-1.04.2-1.43.59L10.3 9.45l-7.72 7.72c-.78.78-.78 2.05 0 2.83L4 21.41c.39.39.9.59 1.41.59.51 0 1.02-.2 1.41-.59l7.78-7.78 2.81-2.81c.8-.78.8-2.07 0-2.86zM5.41 20L4 18.59l7.72-7.72 1.47 1.35L5.41 20z\"/>\n",
              "  </svg>\n",
              "      </button>\n",
              "      \n",
              "  <style>\n",
              "    .colab-df-container {\n",
              "      display:flex;\n",
              "      flex-wrap:wrap;\n",
              "      gap: 12px;\n",
              "    }\n",
              "\n",
              "    .colab-df-convert {\n",
              "      background-color: #E8F0FE;\n",
              "      border: none;\n",
              "      border-radius: 50%;\n",
              "      cursor: pointer;\n",
              "      display: none;\n",
              "      fill: #1967D2;\n",
              "      height: 32px;\n",
              "      padding: 0 0 0 0;\n",
              "      width: 32px;\n",
              "    }\n",
              "\n",
              "    .colab-df-convert:hover {\n",
              "      background-color: #E2EBFA;\n",
              "      box-shadow: 0px 1px 2px rgba(60, 64, 67, 0.3), 0px 1px 3px 1px rgba(60, 64, 67, 0.15);\n",
              "      fill: #174EA6;\n",
              "    }\n",
              "\n",
              "    [theme=dark] .colab-df-convert {\n",
              "      background-color: #3B4455;\n",
              "      fill: #D2E3FC;\n",
              "    }\n",
              "\n",
              "    [theme=dark] .colab-df-convert:hover {\n",
              "      background-color: #434B5C;\n",
              "      box-shadow: 0px 1px 3px 1px rgba(0, 0, 0, 0.15);\n",
              "      filter: drop-shadow(0px 1px 2px rgba(0, 0, 0, 0.3));\n",
              "      fill: #FFFFFF;\n",
              "    }\n",
              "  </style>\n",
              "\n",
              "      <script>\n",
              "        const buttonEl =\n",
              "          document.querySelector('#df-11db1c68-1867-4c27-b416-7f0068e3583a button.colab-df-convert');\n",
              "        buttonEl.style.display =\n",
              "          google.colab.kernel.accessAllowed ? 'block' : 'none';\n",
              "\n",
              "        async function convertToInteractive(key) {\n",
              "          const element = document.querySelector('#df-11db1c68-1867-4c27-b416-7f0068e3583a');\n",
              "          const dataTable =\n",
              "            await google.colab.kernel.invokeFunction('convertToInteractive',\n",
              "                                                     [key], {});\n",
              "          if (!dataTable) return;\n",
              "\n",
              "          const docLinkHtml = 'Like what you see? Visit the ' +\n",
              "            '<a target=\"_blank\" href=https://colab.research.google.com/notebooks/data_table.ipynb>data table notebook</a>'\n",
              "            + ' to learn more about interactive tables.';\n",
              "          element.innerHTML = '';\n",
              "          dataTable['output_type'] = 'display_data';\n",
              "          await google.colab.output.renderOutput(dataTable, element);\n",
              "          const docLink = document.createElement('div');\n",
              "          docLink.innerHTML = docLinkHtml;\n",
              "          element.appendChild(docLink);\n",
              "        }\n",
              "      </script>\n",
              "    </div>\n",
              "  </div>\n",
              "  "
            ]
          },
          "metadata": {},
          "execution_count": 89
        }
      ]
    },
    {
      "cell_type": "code",
      "source": [
        "get_me_my_metrics(df['Hashtags'], df['davinci'])"
      ],
      "metadata": {
        "colab": {
          "base_uri": "https://localhost:8080/"
        },
        "id": "auFg3U62XOBD",
        "outputId": "d0296686-c84f-4d0e-9753-a788fa6773e6"
      },
      "execution_count": null,
      "outputs": [
        {
          "output_type": "execute_result",
          "data": {
            "text/plain": [
              "(0.48322147651006714,\n",
              " 0.2233231161083509,\n",
              " 0.12846825061590159,\n",
              " 0.16310764141645337)"
            ]
          },
          "metadata": {},
          "execution_count": 94
        }
      ]
    },
    {
      "cell_type": "code",
      "source": [
        "  df['Hashtags'][4]"
      ],
      "metadata": {
        "colab": {
          "base_uri": "https://localhost:8080/",
          "height": 35
        },
        "id": "FshUVJutXeq7",
        "outputId": "86a9f798-5438-4705-c759-6ef99e5dff0d"
      },
      "execution_count": null,
      "outputs": [
        {
          "output_type": "execute_result",
          "data": {
            "text/plain": [
              "'#Strategy #Leadership #Goals #Planning #Skills'"
            ],
            "application/vnd.google.colaboratory.intrinsic+json": {
              "type": "string"
            }
          },
          "metadata": {},
          "execution_count": 101
        }
      ]
    },
    {
      "cell_type": "code",
      "source": [
        "len(hashtag_list)"
      ],
      "metadata": {
        "colab": {
          "base_uri": "https://localhost:8080/"
        },
        "id": "X8VT-eUnYcvS",
        "outputId": "b43e13d5-3f4e-48dd-d6eb-be4010b7c009"
      },
      "execution_count": null,
      "outputs": [
        {
          "output_type": "execute_result",
          "data": {
            "text/plain": [
              "149"
            ]
          },
          "metadata": {},
          "execution_count": 102
        }
      ]
    },
    {
      "cell_type": "code",
      "source": [
        ""
      ],
      "metadata": {
        "id": "lffGnDjrcRb_"
      },
      "execution_count": null,
      "outputs": []
    }
  ]
}