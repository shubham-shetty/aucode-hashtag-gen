{
  "nbformat": 4,
  "nbformat_minor": 0,
  "metadata": {
    "colab": {
      "name": "GPT3_finetuning.ipynb",
      "provenance": []
    },
    "kernelspec": {
      "name": "python3",
      "display_name": "Python 3"
    },
    "language_info": {
      "name": "python"
    }
  },
  "cells": [
    {
      "cell_type": "markdown",
      "source": [
        "## Preface"
      ],
      "metadata": {
        "id": "XbGo-SP8tjzL"
      }
    },
    {
      "cell_type": "code",
      "source": [
        "!pip install ekphrasis"
      ],
      "metadata": {
        "colab": {
          "base_uri": "https://localhost:8080/"
        },
        "id": "oBxyImP0trmE",
        "outputId": "437a9ab8-9722-45cc-f1a6-5ee3e9222a21"
      },
      "execution_count": null,
      "outputs": [
        {
          "output_type": "stream",
          "name": "stdout",
          "text": [
            "Collecting ekphrasis\n",
            "  Downloading ekphrasis-0.5.1.tar.gz (80 kB)\n",
            "\u001b[?25l\r\u001b[K     |████                            | 10 kB 17.5 MB/s eta 0:00:01\r\u001b[K     |████████▏                       | 20 kB 22.0 MB/s eta 0:00:01\r\u001b[K     |████████████▎                   | 30 kB 13.5 MB/s eta 0:00:01\r\u001b[K     |████████████████▍               | 40 kB 11.1 MB/s eta 0:00:01\r\u001b[K     |████████████████████▌           | 51 kB 9.2 MB/s eta 0:00:01\r\u001b[K     |████████████████████████▌       | 61 kB 10.7 MB/s eta 0:00:01\r\u001b[K     |████████████████████████████▋   | 71 kB 11.6 MB/s eta 0:00:01\r\u001b[K     |████████████████████████████████| 80 kB 4.4 MB/s \n",
            "\u001b[?25hRequirement already satisfied: termcolor in /usr/local/lib/python3.7/dist-packages (from ekphrasis) (1.1.0)\n",
            "Requirement already satisfied: tqdm in /usr/local/lib/python3.7/dist-packages (from ekphrasis) (4.64.0)\n",
            "Collecting colorama\n",
            "  Downloading colorama-0.4.4-py2.py3-none-any.whl (16 kB)\n",
            "Collecting ujson\n",
            "  Downloading ujson-5.2.0-cp37-cp37m-manylinux_2_17_x86_64.manylinux2014_x86_64.whl (45 kB)\n",
            "\u001b[K     |████████████████████████████████| 45 kB 3.1 MB/s \n",
            "\u001b[?25hRequirement already satisfied: matplotlib in /usr/local/lib/python3.7/dist-packages (from ekphrasis) (3.2.2)\n",
            "Requirement already satisfied: nltk in /usr/local/lib/python3.7/dist-packages (from ekphrasis) (3.2.5)\n",
            "Collecting ftfy\n",
            "  Downloading ftfy-6.1.1-py3-none-any.whl (53 kB)\n",
            "\u001b[K     |████████████████████████████████| 53 kB 203 kB/s \n",
            "\u001b[?25hRequirement already satisfied: numpy in /usr/local/lib/python3.7/dist-packages (from ekphrasis) (1.21.6)\n",
            "Requirement already satisfied: wcwidth>=0.2.5 in /usr/local/lib/python3.7/dist-packages (from ftfy->ekphrasis) (0.2.5)\n",
            "Requirement already satisfied: kiwisolver>=1.0.1 in /usr/local/lib/python3.7/dist-packages (from matplotlib->ekphrasis) (1.4.2)\n",
            "Requirement already satisfied: python-dateutil>=2.1 in /usr/local/lib/python3.7/dist-packages (from matplotlib->ekphrasis) (2.8.2)\n",
            "Requirement already satisfied: pyparsing!=2.0.4,!=2.1.2,!=2.1.6,>=2.0.1 in /usr/local/lib/python3.7/dist-packages (from matplotlib->ekphrasis) (3.0.8)\n",
            "Requirement already satisfied: cycler>=0.10 in /usr/local/lib/python3.7/dist-packages (from matplotlib->ekphrasis) (0.11.0)\n",
            "Requirement already satisfied: typing-extensions in /usr/local/lib/python3.7/dist-packages (from kiwisolver>=1.0.1->matplotlib->ekphrasis) (4.2.0)\n",
            "Requirement already satisfied: six>=1.5 in /usr/local/lib/python3.7/dist-packages (from python-dateutil>=2.1->matplotlib->ekphrasis) (1.15.0)\n",
            "Building wheels for collected packages: ekphrasis\n",
            "  Building wheel for ekphrasis (setup.py) ... \u001b[?25l\u001b[?25hdone\n",
            "  Created wheel for ekphrasis: filename=ekphrasis-0.5.1-py3-none-any.whl size=82842 sha256=7a510f00a0fc3b47ae304dbb925e9d40f904a0e6478d72966e9b097d95e18e10\n",
            "  Stored in directory: /root/.cache/pip/wheels/f7/ec/0d/12659e32faf780546945d0120f2c8410eb3efb7426731da88f\n",
            "Successfully built ekphrasis\n",
            "Installing collected packages: ujson, ftfy, colorama, ekphrasis\n",
            "Successfully installed colorama-0.4.4 ekphrasis-0.5.1 ftfy-6.1.1 ujson-5.2.0\n"
          ]
        }
      ]
    },
    {
      "cell_type": "code",
      "source": [
        "!pip install --upgrade openai"
      ],
      "metadata": {
        "colab": {
          "base_uri": "https://localhost:8080/"
        },
        "id": "el1nW_hXtvWg",
        "outputId": "b0823ebe-cb87-499a-a79a-ae49abbab61a"
      },
      "execution_count": null,
      "outputs": [
        {
          "output_type": "stream",
          "name": "stdout",
          "text": [
            "Collecting openai\n",
            "  Downloading openai-0.18.1.tar.gz (42 kB)\n",
            "\u001b[?25l\r\u001b[K     |███████▊                        | 10 kB 24.7 MB/s eta 0:00:01\r\u001b[K     |███████████████▍                | 20 kB 29.1 MB/s eta 0:00:01\r\u001b[K     |███████████████████████▏        | 30 kB 33.1 MB/s eta 0:00:01\r\u001b[K     |██████████████████████████████▉ | 40 kB 29.5 MB/s eta 0:00:01\r\u001b[K     |████████████████████████████████| 42 kB 1.2 MB/s \n",
            "\u001b[?25h  Installing build dependencies ... \u001b[?25l\u001b[?25hdone\n",
            "  Getting requirements to build wheel ... \u001b[?25l\u001b[?25hdone\n",
            "    Preparing wheel metadata ... \u001b[?25l\u001b[?25hdone\n",
            "Requirement already satisfied: pandas>=1.2.3 in /usr/local/lib/python3.7/dist-packages (from openai) (1.3.5)\n",
            "Requirement already satisfied: requests>=2.20 in /usr/local/lib/python3.7/dist-packages (from openai) (2.23.0)\n",
            "Requirement already satisfied: openpyxl>=3.0.7 in /usr/local/lib/python3.7/dist-packages (from openai) (3.0.9)\n",
            "Requirement already satisfied: tqdm in /usr/local/lib/python3.7/dist-packages (from openai) (4.64.0)\n",
            "Collecting pandas-stubs>=1.1.0.11\n",
            "  Downloading pandas_stubs-1.2.0.58-py3-none-any.whl (162 kB)\n",
            "\u001b[K     |████████████████████████████████| 162 kB 43.0 MB/s \n",
            "\u001b[?25hRequirement already satisfied: et-xmlfile in /usr/local/lib/python3.7/dist-packages (from openpyxl>=3.0.7->openai) (1.1.0)\n",
            "Requirement already satisfied: numpy>=1.17.3 in /usr/local/lib/python3.7/dist-packages (from pandas>=1.2.3->openai) (1.21.6)\n",
            "Requirement already satisfied: python-dateutil>=2.7.3 in /usr/local/lib/python3.7/dist-packages (from pandas>=1.2.3->openai) (2.8.2)\n",
            "Requirement already satisfied: pytz>=2017.3 in /usr/local/lib/python3.7/dist-packages (from pandas>=1.2.3->openai) (2022.1)\n",
            "Requirement already satisfied: typing-extensions>=3.7.4.3 in /usr/local/lib/python3.7/dist-packages (from pandas-stubs>=1.1.0.11->openai) (4.2.0)\n",
            "Requirement already satisfied: six>=1.5 in /usr/local/lib/python3.7/dist-packages (from python-dateutil>=2.7.3->pandas>=1.2.3->openai) (1.15.0)\n",
            "Requirement already satisfied: urllib3!=1.25.0,!=1.25.1,<1.26,>=1.21.1 in /usr/local/lib/python3.7/dist-packages (from requests>=2.20->openai) (1.24.3)\n",
            "Requirement already satisfied: idna<3,>=2.5 in /usr/local/lib/python3.7/dist-packages (from requests>=2.20->openai) (2.10)\n",
            "Requirement already satisfied: chardet<4,>=3.0.2 in /usr/local/lib/python3.7/dist-packages (from requests>=2.20->openai) (3.0.4)\n",
            "Requirement already satisfied: certifi>=2017.4.17 in /usr/local/lib/python3.7/dist-packages (from requests>=2.20->openai) (2021.10.8)\n",
            "Building wheels for collected packages: openai\n",
            "  Building wheel for openai (PEP 517) ... \u001b[?25l\u001b[?25hdone\n",
            "  Created wheel for openai: filename=openai-0.18.1-py3-none-any.whl size=53168 sha256=8b60dd68b2ae769352e645cc268cdd4bcef58dc73570d50a5958095b78b65f82\n",
            "  Stored in directory: /root/.cache/pip/wheels/5a/bf/24/fcdc9d2b81f9c7e565bb2036ec9f7cc930056b829895b3bf48\n",
            "Successfully built openai\n",
            "Installing collected packages: pandas-stubs, openai\n",
            "Successfully installed openai-0.18.1 pandas-stubs-1.2.0.58\n"
          ]
        }
      ]
    },
    {
      "cell_type": "code",
      "execution_count": null,
      "metadata": {
        "id": "9UbCTUIbtdsp"
      },
      "outputs": [],
      "source": [
        "import pandas as pd\n",
        "import numpy as np\n",
        "import re"
      ]
    },
    {
      "cell_type": "code",
      "source": [
        "# Import Tweet processing utils from ekphrasis\n",
        "from ekphrasis.classes.preprocessor import TextPreProcessor\n",
        "from ekphrasis.classes.tokenizer import SocialTokenizer\n",
        "from ekphrasis.dicts.emoticons import emoticons"
      ],
      "metadata": {
        "id": "iXGRro7stySy"
      },
      "execution_count": null,
      "outputs": []
    },
    {
      "cell_type": "code",
      "source": [
        "# This mounts your Google Drive to the Colab VM.\n",
        "from google.colab import drive\n",
        "drive.mount('/content/gdrive', force_remount=True)"
      ],
      "metadata": {
        "colab": {
          "base_uri": "https://localhost:8080/"
        },
        "id": "AReXra8_t2fr",
        "outputId": "36113ee4-1da8-4912-d9c5-ce7dfb640795"
      },
      "execution_count": null,
      "outputs": [
        {
          "output_type": "stream",
          "name": "stdout",
          "text": [
            "Mounted at /content/gdrive\n"
          ]
        }
      ]
    },
    {
      "cell_type": "markdown",
      "source": [
        "## Prepare Training Data"
      ],
      "metadata": {
        "id": "Nhwtnswit9o2"
      }
    },
    {
      "cell_type": "code",
      "source": [
        "%cd /content/gdrive/Shareddrives/CS-696DS_AuCoDe/tweet_hashtag_dataset/final/"
      ],
      "metadata": {
        "colab": {
          "base_uri": "https://localhost:8080/"
        },
        "id": "9McqrqJ4t_aH",
        "outputId": "81e7f8a5-b963-4329-ca16-6b31cf876d57"
      },
      "execution_count": null,
      "outputs": [
        {
          "output_type": "stream",
          "name": "stdout",
          "text": [
            "/content/gdrive/Shareddrives/CS-696DS_AuCoDe/tweet_hashtag_dataset/final\n"
          ]
        }
      ]
    },
    {
      "cell_type": "code",
      "source": [
        "%ls"
      ],
      "metadata": {
        "colab": {
          "base_uri": "https://localhost:8080/"
        },
        "id": "sbrbL5s9u7F4",
        "outputId": "ba7f2c21-e4ed-4d5f-8156-66c45b16ace1"
      },
      "execution_count": null,
      "outputs": [
        {
          "output_type": "stream",
          "name": "stdout",
          "text": [
            " \u001b[0m\u001b[01;34mArchive\u001b[0m/                    tweet_prompts_prepared.jsonl\n",
            "'tweet_prompts (1).gsheet'   twitter_hashtag_dataset.csv\n",
            " tweet_prompts.csv           twitter_hashtag_dataset.gsheet\n",
            " tweet_prompts.gsheet\n"
          ]
        }
      ]
    },
    {
      "cell_type": "code",
      "source": [
        "f = 'twitter_hashtag_dataset.csv'\n",
        "df = pd.read_csv(f)"
      ],
      "metadata": {
        "id": "rZ_lNM2tvIPW"
      },
      "execution_count": null,
      "outputs": []
    },
    {
      "cell_type": "code",
      "source": [
        "df.head(5)"
      ],
      "metadata": {
        "colab": {
          "base_uri": "https://localhost:8080/",
          "height": 496
        },
        "id": "hOp5FKryOtZD",
        "outputId": "ac0b9d1a-b91b-456d-d95d-b0f0f2049aa4"
      },
      "execution_count": null,
      "outputs": [
        {
          "output_type": "execute_result",
          "data": {
            "text/plain": [
              "                                           tweet_url  \\\n",
              "0  https://twitter.com/ItsMyChance/status/1503583...   \n",
              "1  https://twitter.com/Perves708/status/150358318...   \n",
              "2  https://twitter.com/Arman05564658/status/15035...   \n",
              "3  https://twitter.com/Irwan0200/status/150358557...   \n",
              "4  https://twitter.com/joyroy1010/status/15035856...   \n",
              "\n",
              "                                       tweet_content  tweet_creation_date  \\\n",
              "0  starfish beat Jmarkz87 in a head to head chall...  2022-03-15 04:05:21   \n",
              "1  Very good project Wow @@PlatONKoreanis pretty ...  2022-03-15 04:05:40   \n",
              "2  Wow @@PlatONKoreanis pretty impressive, testin...  2022-03-15 04:06:06   \n",
              "3  Very good project, I wish you more success in ...  2022-03-15 04:15:12   \n",
              "4  This wonderful project . \\n@SumaS72181326 \\n@r...  2022-03-15 04:15:18   \n",
              "\n",
              "  tweet_creation_day_of_week tweet_creation_month tweet_creation_year  \n",
              "0                    Tuesday                March                2022  \n",
              "1                    Tuesday                March                2022  \n",
              "2                    Tuesday                March                2022  \n",
              "3                    Tuesday                March                2022  \n",
              "4                    Tuesday                March                2022  "
            ],
            "text/html": [
              "\n",
              "  <div id=\"df-9081a20e-bf52-4db8-8e52-e16f829955ca\">\n",
              "    <div class=\"colab-df-container\">\n",
              "      <div>\n",
              "<style scoped>\n",
              "    .dataframe tbody tr th:only-of-type {\n",
              "        vertical-align: middle;\n",
              "    }\n",
              "\n",
              "    .dataframe tbody tr th {\n",
              "        vertical-align: top;\n",
              "    }\n",
              "\n",
              "    .dataframe thead th {\n",
              "        text-align: right;\n",
              "    }\n",
              "</style>\n",
              "<table border=\"1\" class=\"dataframe\">\n",
              "  <thead>\n",
              "    <tr style=\"text-align: right;\">\n",
              "      <th></th>\n",
              "      <th>tweet_url</th>\n",
              "      <th>tweet_content</th>\n",
              "      <th>tweet_creation_date</th>\n",
              "      <th>tweet_creation_day_of_week</th>\n",
              "      <th>tweet_creation_month</th>\n",
              "      <th>tweet_creation_year</th>\n",
              "    </tr>\n",
              "  </thead>\n",
              "  <tbody>\n",
              "    <tr>\n",
              "      <th>0</th>\n",
              "      <td>https://twitter.com/ItsMyChance/status/1503583...</td>\n",
              "      <td>starfish beat Jmarkz87 in a head to head chall...</td>\n",
              "      <td>2022-03-15 04:05:21</td>\n",
              "      <td>Tuesday</td>\n",
              "      <td>March</td>\n",
              "      <td>2022</td>\n",
              "    </tr>\n",
              "    <tr>\n",
              "      <th>1</th>\n",
              "      <td>https://twitter.com/Perves708/status/150358318...</td>\n",
              "      <td>Very good project Wow @@PlatONKoreanis pretty ...</td>\n",
              "      <td>2022-03-15 04:05:40</td>\n",
              "      <td>Tuesday</td>\n",
              "      <td>March</td>\n",
              "      <td>2022</td>\n",
              "    </tr>\n",
              "    <tr>\n",
              "      <th>2</th>\n",
              "      <td>https://twitter.com/Arman05564658/status/15035...</td>\n",
              "      <td>Wow @@PlatONKoreanis pretty impressive, testin...</td>\n",
              "      <td>2022-03-15 04:06:06</td>\n",
              "      <td>Tuesday</td>\n",
              "      <td>March</td>\n",
              "      <td>2022</td>\n",
              "    </tr>\n",
              "    <tr>\n",
              "      <th>3</th>\n",
              "      <td>https://twitter.com/Irwan0200/status/150358557...</td>\n",
              "      <td>Very good project, I wish you more success in ...</td>\n",
              "      <td>2022-03-15 04:15:12</td>\n",
              "      <td>Tuesday</td>\n",
              "      <td>March</td>\n",
              "      <td>2022</td>\n",
              "    </tr>\n",
              "    <tr>\n",
              "      <th>4</th>\n",
              "      <td>https://twitter.com/joyroy1010/status/15035856...</td>\n",
              "      <td>This wonderful project . \\n@SumaS72181326 \\n@r...</td>\n",
              "      <td>2022-03-15 04:15:18</td>\n",
              "      <td>Tuesday</td>\n",
              "      <td>March</td>\n",
              "      <td>2022</td>\n",
              "    </tr>\n",
              "  </tbody>\n",
              "</table>\n",
              "</div>\n",
              "      <button class=\"colab-df-convert\" onclick=\"convertToInteractive('df-9081a20e-bf52-4db8-8e52-e16f829955ca')\"\n",
              "              title=\"Convert this dataframe to an interactive table.\"\n",
              "              style=\"display:none;\">\n",
              "        \n",
              "  <svg xmlns=\"http://www.w3.org/2000/svg\" height=\"24px\"viewBox=\"0 0 24 24\"\n",
              "       width=\"24px\">\n",
              "    <path d=\"M0 0h24v24H0V0z\" fill=\"none\"/>\n",
              "    <path d=\"M18.56 5.44l.94 2.06.94-2.06 2.06-.94-2.06-.94-.94-2.06-.94 2.06-2.06.94zm-11 1L8.5 8.5l.94-2.06 2.06-.94-2.06-.94L8.5 2.5l-.94 2.06-2.06.94zm10 10l.94 2.06.94-2.06 2.06-.94-2.06-.94-.94-2.06-.94 2.06-2.06.94z\"/><path d=\"M17.41 7.96l-1.37-1.37c-.4-.4-.92-.59-1.43-.59-.52 0-1.04.2-1.43.59L10.3 9.45l-7.72 7.72c-.78.78-.78 2.05 0 2.83L4 21.41c.39.39.9.59 1.41.59.51 0 1.02-.2 1.41-.59l7.78-7.78 2.81-2.81c.8-.78.8-2.07 0-2.86zM5.41 20L4 18.59l7.72-7.72 1.47 1.35L5.41 20z\"/>\n",
              "  </svg>\n",
              "      </button>\n",
              "      \n",
              "  <style>\n",
              "    .colab-df-container {\n",
              "      display:flex;\n",
              "      flex-wrap:wrap;\n",
              "      gap: 12px;\n",
              "    }\n",
              "\n",
              "    .colab-df-convert {\n",
              "      background-color: #E8F0FE;\n",
              "      border: none;\n",
              "      border-radius: 50%;\n",
              "      cursor: pointer;\n",
              "      display: none;\n",
              "      fill: #1967D2;\n",
              "      height: 32px;\n",
              "      padding: 0 0 0 0;\n",
              "      width: 32px;\n",
              "    }\n",
              "\n",
              "    .colab-df-convert:hover {\n",
              "      background-color: #E2EBFA;\n",
              "      box-shadow: 0px 1px 2px rgba(60, 64, 67, 0.3), 0px 1px 3px 1px rgba(60, 64, 67, 0.15);\n",
              "      fill: #174EA6;\n",
              "    }\n",
              "\n",
              "    [theme=dark] .colab-df-convert {\n",
              "      background-color: #3B4455;\n",
              "      fill: #D2E3FC;\n",
              "    }\n",
              "\n",
              "    [theme=dark] .colab-df-convert:hover {\n",
              "      background-color: #434B5C;\n",
              "      box-shadow: 0px 1px 3px 1px rgba(0, 0, 0, 0.15);\n",
              "      filter: drop-shadow(0px 1px 2px rgba(0, 0, 0, 0.3));\n",
              "      fill: #FFFFFF;\n",
              "    }\n",
              "  </style>\n",
              "\n",
              "      <script>\n",
              "        const buttonEl =\n",
              "          document.querySelector('#df-9081a20e-bf52-4db8-8e52-e16f829955ca button.colab-df-convert');\n",
              "        buttonEl.style.display =\n",
              "          google.colab.kernel.accessAllowed ? 'block' : 'none';\n",
              "\n",
              "        async function convertToInteractive(key) {\n",
              "          const element = document.querySelector('#df-9081a20e-bf52-4db8-8e52-e16f829955ca');\n",
              "          const dataTable =\n",
              "            await google.colab.kernel.invokeFunction('convertToInteractive',\n",
              "                                                     [key], {});\n",
              "          if (!dataTable) return;\n",
              "\n",
              "          const docLinkHtml = 'Like what you see? Visit the ' +\n",
              "            '<a target=\"_blank\" href=https://colab.research.google.com/notebooks/data_table.ipynb>data table notebook</a>'\n",
              "            + ' to learn more about interactive tables.';\n",
              "          element.innerHTML = '';\n",
              "          dataTable['output_type'] = 'display_data';\n",
              "          await google.colab.output.renderOutput(dataTable, element);\n",
              "          const docLink = document.createElement('div');\n",
              "          docLink.innerHTML = docLinkHtml;\n",
              "          element.appendChild(docLink);\n",
              "        }\n",
              "      </script>\n",
              "    </div>\n",
              "  </div>\n",
              "  "
            ]
          },
          "metadata": {},
          "execution_count": 9
        }
      ]
    },
    {
      "cell_type": "code",
      "source": [
        "content = df[['tweet_content']]"
      ],
      "metadata": {
        "id": "KniLr5PyOyLc"
      },
      "execution_count": null,
      "outputs": []
    },
    {
      "cell_type": "code",
      "source": [
        "# Define text preprocessing pipeline to annotate hashtags\n",
        "text_processor = TextPreProcessor(\n",
        "    # terms that will be normalized\n",
        "    #normalize=['url', 'email', 'percent', 'money', 'phone', 'user', 'time', 'url', 'date', 'number'],\n",
        "    normalize=['url'],\n",
        "    # terms that will be annotated\n",
        "    annotate={\"hashtag\"},\n",
        "    fix_html=True,  # fix HTML tokens\n",
        "    \n",
        "    # corpus from which the word statistics are going to be used \n",
        "    # for word segmentation \n",
        "    segmenter=\"twitter\", \n",
        "    \n",
        "    # corpus from which the word statistics are going to be used \n",
        "    # for spell correction\n",
        "    corrector=\"twitter\", \n",
        "    \n",
        "    unpack_hashtags=True,  # perform word segmentation on hashtags\n",
        "    unpack_contractions=True,  # Unpack contractions (can't -> can not)\n",
        "    spell_correct_elong=False,  # spell correction for elongated words\n",
        "    \n",
        "    # select a tokenizer. You can use SocialTokenizer, or pass your own\n",
        "    # the tokenizer, should take as input a string and return a list of tokens\n",
        "    tokenizer=SocialTokenizer(lowercase=True).tokenize,\n",
        "    \n",
        "    # list of dictionaries, for replacing tokens extracted from the text,\n",
        "    # with other expressions. You can pass more than one dictionaries.\n",
        "    dicts=[emoticons]\n",
        ")"
      ],
      "metadata": {
        "colab": {
          "base_uri": "https://localhost:8080/"
        },
        "id": "Dwfl0DtmPM9A",
        "outputId": "bcc3b8d9-2fa9-449c-c538-cb3e9665bb8b"
      },
      "execution_count": null,
      "outputs": [
        {
          "output_type": "stream",
          "name": "stderr",
          "text": [
            "/usr/local/lib/python3.7/dist-packages/ekphrasis/classes/tokenizer.py:225: FutureWarning: Possible nested set at position 2190\n",
            "  self.tok = re.compile(r\"({})\".format(\"|\".join(pipeline)))\n"
          ]
        },
        {
          "output_type": "stream",
          "name": "stdout",
          "text": [
            "Word statistics files not found!\n",
            "Downloading... done!\n",
            "Unpacking... done!\n",
            "Reading twitter - 1grams ...\n",
            "generating cache file for faster loading...\n",
            "reading ngrams /root/.ekphrasis/stats/twitter/counts_1grams.txt\n",
            "Reading twitter - 2grams ...\n",
            "generating cache file for faster loading...\n",
            "reading ngrams /root/.ekphrasis/stats/twitter/counts_2grams.txt\n",
            "Reading twitter - 1grams ...\n"
          ]
        },
        {
          "output_type": "stream",
          "name": "stderr",
          "text": [
            "/usr/local/lib/python3.7/dist-packages/ekphrasis/classes/exmanager.py:14: FutureWarning: Possible nested set at position 42\n",
            "  regexes = {k.lower(): re.compile(self.expressions[k]) for k, v in\n"
          ]
        }
      ]
    },
    {
      "cell_type": "code",
      "source": [
        "# Define text preprocessing pipeline\n",
        "only_text_processor = TextPreProcessor(\n",
        "    # terms that will be normalized\n",
        "    #normalize=['url', 'email', 'percent', 'money', 'phone', 'user',\n",
        "    #    'time', 'url', 'date', 'number'],\n",
        "    normalize=['url'],\n",
        "    # terms that will be annotated\n",
        "    #annotate={\"hashtag\"},\n",
        "    fix_html=True,  # fix HTML tokens\n",
        "    \n",
        "    # corpus from which the word statistics are going to be used \n",
        "    # for word segmentation \n",
        "    segmenter=\"twitter\", \n",
        "    \n",
        "    # corpus from which the word statistics are going to be used \n",
        "    # for spell correction\n",
        "    corrector=\"twitter\", \n",
        "    \n",
        "    unpack_hashtags=True,  # perform word segmentation on hashtags\n",
        "    unpack_contractions=True,  # Unpack contractions (can't -> can not)\n",
        "    spell_correct_elong=False,  # spell correction for elongated words\n",
        "    \n",
        "    # select a tokenizer. You can use SocialTokenizer, or pass your own\n",
        "    # the tokenizer, should take as input a string and return a list of tokens\n",
        "    tokenizer=SocialTokenizer(lowercase=True).tokenize,\n",
        "    \n",
        "    # list of dictionaries, for replacing tokens extracted from the text,\n",
        "    # with other expressions. You can pass more than one dictionaries.\n",
        "    dicts=[emoticons]\n",
        ")"
      ],
      "metadata": {
        "colab": {
          "base_uri": "https://localhost:8080/"
        },
        "id": "0uz25Ky1QbKp",
        "outputId": "db7378d4-e84b-449a-d62c-df66c086dba1"
      },
      "execution_count": null,
      "outputs": [
        {
          "output_type": "stream",
          "name": "stdout",
          "text": [
            "Reading twitter - 1grams ...\n",
            "Reading twitter - 2grams ...\n",
            "Reading twitter - 1grams ...\n"
          ]
        }
      ]
    },
    {
      "cell_type": "code",
      "source": [
        "# Get Text\n",
        "def get_tweet_text(tweet):\n",
        "    tweet_clean = \" \".join(only_text_processor.pre_process_doc(tweet))\n",
        "    return tweet_clean\n",
        "\n",
        "# Preprocess raw tweets using ekphrasis preprocessing pipeline\n",
        "def preprocess_tweet(tweet):\n",
        "    tweet_clean = \" \".join(text_processor.pre_process_doc(tweet))\n",
        "    return tweet_clean\n",
        "\n",
        "# Identify hashtags annotated within processed tweets\n",
        "def find_hashtags(tweet):\n",
        "    hashtags = re.findall(r\"(?<=<hashtag>)(.+?)(?=</hashtag>)\", tweet)\n",
        "    return hashtags\n",
        "\n",
        "# Remove annotated hashtags \n",
        "def remove_hashtags(tweet):\n",
        "    pattern = r\"(?<=<hashtag>)(.+?)(?=</hashtag>)\"\n",
        "    new_tweet = re.sub(pattern, '', tweet)\n",
        "    new_tweet2 = new_tweet.replace(\"<hashtag>\", \"\")\n",
        "    new_tweet3 = new_tweet2.replace(\"</hashtag>\", \"\")\n",
        "    return new_tweet3\n",
        "\n",
        "# Form hashtags\n",
        "def set_hashtag_form(hashtag_list):\n",
        "    new_list = []\n",
        "    for hashtag in hashtag_list:\n",
        "      hashtag = hashtag.replace(\" \", \"\")\n",
        "      hashtag = \"#\"+hashtag\n",
        "      new_list.append(hashtag)\n",
        "    hashtag_string = \" \".join(new_list)\n",
        "    return hashtag_string\n",
        "\n",
        "# Return dataframe containing original tweet, preprocessed tweet, and list of hashtags\n",
        "# INPUT: Pandas df containing tweets, column name for tweet content\n",
        "# OUTPUT: df appended with preprocessed tweet and list of hashtags\n",
        "def get_hashtags(tweet_df, content):\n",
        "    tweet_df['hashtag_annotated_tweet'] = tweet_df[content].map(preprocess_tweet)\n",
        "    tweet_df['cleaned_tweet'] = tweet_df[content].map(get_tweet_text)\n",
        "    tweet_df['final_tweet'] = tweet_df['hashtag_annotated_tweet'].map(remove_hashtags)\n",
        "    tweet_df['hashtags'] = tweet_df['hashtag_annotated_tweet'].map(find_hashtags)\n",
        "    tweet_df['final_hashtags'] = tweet_df['hashtags'].map(set_hashtag_form)\n",
        "    return tweet_df"
      ],
      "metadata": {
        "id": "v61yTJlqPcUg"
      },
      "execution_count": null,
      "outputs": []
    },
    {
      "cell_type": "code",
      "source": [
        "tweet_df = get_hashtags(content, 'tweet_content')"
      ],
      "metadata": {
        "id": "Ca4n0of-PfoV",
        "colab": {
          "base_uri": "https://localhost:8080/"
        },
        "outputId": "65dd9a0f-5348-4e43-e092-d384ef6e6757"
      },
      "execution_count": null,
      "outputs": [
        {
          "output_type": "stream",
          "name": "stderr",
          "text": [
            "/usr/local/lib/python3.7/dist-packages/ipykernel_launcher.py:38: SettingWithCopyWarning: \n",
            "A value is trying to be set on a copy of a slice from a DataFrame.\n",
            "Try using .loc[row_indexer,col_indexer] = value instead\n",
            "\n",
            "See the caveats in the documentation: https://pandas.pydata.org/pandas-docs/stable/user_guide/indexing.html#returning-a-view-versus-a-copy\n",
            "/usr/local/lib/python3.7/dist-packages/ipykernel_launcher.py:39: SettingWithCopyWarning: \n",
            "A value is trying to be set on a copy of a slice from a DataFrame.\n",
            "Try using .loc[row_indexer,col_indexer] = value instead\n",
            "\n",
            "See the caveats in the documentation: https://pandas.pydata.org/pandas-docs/stable/user_guide/indexing.html#returning-a-view-versus-a-copy\n",
            "/usr/local/lib/python3.7/dist-packages/ipykernel_launcher.py:40: SettingWithCopyWarning: \n",
            "A value is trying to be set on a copy of a slice from a DataFrame.\n",
            "Try using .loc[row_indexer,col_indexer] = value instead\n",
            "\n",
            "See the caveats in the documentation: https://pandas.pydata.org/pandas-docs/stable/user_guide/indexing.html#returning-a-view-versus-a-copy\n",
            "/usr/local/lib/python3.7/dist-packages/ipykernel_launcher.py:41: SettingWithCopyWarning: \n",
            "A value is trying to be set on a copy of a slice from a DataFrame.\n",
            "Try using .loc[row_indexer,col_indexer] = value instead\n",
            "\n",
            "See the caveats in the documentation: https://pandas.pydata.org/pandas-docs/stable/user_guide/indexing.html#returning-a-view-versus-a-copy\n"
          ]
        }
      ]
    },
    {
      "cell_type": "code",
      "source": [
        "# final_tweet removes all hashtags (even in sentence hashtags), cleaned_tweet just removes the '#' and keeps the text\n",
        "tweet_df.head(10)"
      ],
      "metadata": {
        "colab": {
          "base_uri": "https://localhost:8080/",
          "height": 1164
        },
        "id": "Ee3mbkqTPnCv",
        "outputId": "a0d1b41f-3285-43e3-f727-960861e27de0"
      },
      "execution_count": null,
      "outputs": [
        {
          "output_type": "execute_result",
          "data": {
            "text/plain": [
              "                                       tweet_content  \\\n",
              "0  starfish beat Jmarkz87 in a head to head chall...   \n",
              "1  Very good project Wow @@PlatONKoreanis pretty ...   \n",
              "2  Wow @@PlatONKoreanis pretty impressive, testin...   \n",
              "3  Very good project, I wish you more success in ...   \n",
              "4  This wonderful project . \\n@SumaS72181326 \\n@r...   \n",
              "5  starfish beat Wvu164 in a head to head challen...   \n",
              "6  I know that,this is a great project.I like thi...   \n",
              "7  Pantages beat Jbassking in a head to head chal...   \n",
              "8  SweeneyToddRundgren won this $10 Cash playing ...   \n",
              "9  Good Wow @@PlatONKoreanis pretty impressive, t...   \n",
              "\n",
              "                             hashtag_annotated_tweet  \\\n",
              "0  starfish beat jmarkz87 in a head to head chall...   \n",
              "1  very good project wow @ @platonkoreanis pretty...   \n",
              "2  wow @ @platonkoreanis pretty impressive , test...   \n",
              "3  very good project , i wish you more success in...   \n",
              "4  this wonderful project . @sumas72181326 @ripon...   \n",
              "5  starfish beat wvu164 in a head to head challen...   \n",
              "6  i know that , this is a great project . i like...   \n",
              "7  pantages beat jbassking in a head to head chal...   \n",
              "8  sweeneytoddrundgren won this $10 cash playing ...   \n",
              "9  good wow @ @platonkoreanis pretty impressive ,...   \n",
              "\n",
              "                                       cleaned_tweet  \\\n",
              "0  starfish beat jmarkz87 in a head to head chall...   \n",
              "1  very good project wow @ @platonkoreanis pretty...   \n",
              "2  wow @ @platonkoreanis pretty impressive , test...   \n",
              "3  very good project , i wish you more success in...   \n",
              "4  this wonderful project . @sumas72181326 @ripon...   \n",
              "5  starfish beat wvu164 in a head to head challen...   \n",
              "6  i know that , this is a great project . i like...   \n",
              "7  pantages beat jbassking in a head to head chal...   \n",
              "8  sweeneytoddrundgren won this $10 cash playing ...   \n",
              "9  good wow @ @platonkoreanis pretty impressive ,...   \n",
              "\n",
              "                                         final_tweet  \\\n",
              "0  starfish beat jmarkz87 in a head to head chall...   \n",
              "1  very good project wow @ @platonkoreanis pretty...   \n",
              "2  wow @ @platonkoreanis pretty impressive , test...   \n",
              "3  very good project , i wish you more success in...   \n",
              "4  this wonderful project . @sumas72181326 @ripon...   \n",
              "5  starfish beat wvu164 in a head to head challen...   \n",
              "6  i know that , this is a great project . i like...   \n",
              "7  pantages beat jbassking in a head to head chal...   \n",
              "8  sweeneytoddrundgren won this $10 cash playing ...   \n",
              "9  good wow @ @platonkoreanis pretty impressive ,...   \n",
              "\n",
              "                                            hashtags  \\\n",
              "0  [ it s my chance ,  prizes ,  1 st place ,  co...   \n",
              "1                                    [ competition ]   \n",
              "2                                    [ competition ]   \n",
              "3                                    [ competition ]   \n",
              "4                                    [ competition ]   \n",
              "5  [ it s my chance ,  prizes ,  1 st place ,  co...   \n",
              "6                                    [ competition ]   \n",
              "7  [ it s my chance ,  prizes ,  1 st place ,  co...   \n",
              "8  [ it s my chance ,  prizes ,  1 st place ,  co...   \n",
              "9                                    [ competition ]   \n",
              "\n",
              "                                      final_hashtags  \n",
              "0        #itsmychance #prizes #1stplace #competition  \n",
              "1                                       #competition  \n",
              "2                                       #competition  \n",
              "3                                       #competition  \n",
              "4                                       #competition  \n",
              "5        #itsmychance #prizes #1stplace #competition  \n",
              "6                                       #competition  \n",
              "7        #itsmychance #prizes #1stplace #competition  \n",
              "8  #itsmychance #prizes #1stplace #competition #w...  \n",
              "9                                       #competition  "
            ],
            "text/html": [
              "\n",
              "  <div id=\"df-19fe676f-547c-47d9-a38e-5f996d2d0ac6\">\n",
              "    <div class=\"colab-df-container\">\n",
              "      <div>\n",
              "<style scoped>\n",
              "    .dataframe tbody tr th:only-of-type {\n",
              "        vertical-align: middle;\n",
              "    }\n",
              "\n",
              "    .dataframe tbody tr th {\n",
              "        vertical-align: top;\n",
              "    }\n",
              "\n",
              "    .dataframe thead th {\n",
              "        text-align: right;\n",
              "    }\n",
              "</style>\n",
              "<table border=\"1\" class=\"dataframe\">\n",
              "  <thead>\n",
              "    <tr style=\"text-align: right;\">\n",
              "      <th></th>\n",
              "      <th>tweet_content</th>\n",
              "      <th>hashtag_annotated_tweet</th>\n",
              "      <th>cleaned_tweet</th>\n",
              "      <th>final_tweet</th>\n",
              "      <th>hashtags</th>\n",
              "      <th>final_hashtags</th>\n",
              "    </tr>\n",
              "  </thead>\n",
              "  <tbody>\n",
              "    <tr>\n",
              "      <th>0</th>\n",
              "      <td>starfish beat Jmarkz87 in a head to head chall...</td>\n",
              "      <td>starfish beat jmarkz87 in a head to head chall...</td>\n",
              "      <td>starfish beat jmarkz87 in a head to head chall...</td>\n",
              "      <td>starfish beat jmarkz87 in a head to head chall...</td>\n",
              "      <td>[ it s my chance ,  prizes ,  1 st place ,  co...</td>\n",
              "      <td>#itsmychance #prizes #1stplace #competition</td>\n",
              "    </tr>\n",
              "    <tr>\n",
              "      <th>1</th>\n",
              "      <td>Very good project Wow @@PlatONKoreanis pretty ...</td>\n",
              "      <td>very good project wow @ @platonkoreanis pretty...</td>\n",
              "      <td>very good project wow @ @platonkoreanis pretty...</td>\n",
              "      <td>very good project wow @ @platonkoreanis pretty...</td>\n",
              "      <td>[ competition ]</td>\n",
              "      <td>#competition</td>\n",
              "    </tr>\n",
              "    <tr>\n",
              "      <th>2</th>\n",
              "      <td>Wow @@PlatONKoreanis pretty impressive, testin...</td>\n",
              "      <td>wow @ @platonkoreanis pretty impressive , test...</td>\n",
              "      <td>wow @ @platonkoreanis pretty impressive , test...</td>\n",
              "      <td>wow @ @platonkoreanis pretty impressive , test...</td>\n",
              "      <td>[ competition ]</td>\n",
              "      <td>#competition</td>\n",
              "    </tr>\n",
              "    <tr>\n",
              "      <th>3</th>\n",
              "      <td>Very good project, I wish you more success in ...</td>\n",
              "      <td>very good project , i wish you more success in...</td>\n",
              "      <td>very good project , i wish you more success in...</td>\n",
              "      <td>very good project , i wish you more success in...</td>\n",
              "      <td>[ competition ]</td>\n",
              "      <td>#competition</td>\n",
              "    </tr>\n",
              "    <tr>\n",
              "      <th>4</th>\n",
              "      <td>This wonderful project . \\n@SumaS72181326 \\n@r...</td>\n",
              "      <td>this wonderful project . @sumas72181326 @ripon...</td>\n",
              "      <td>this wonderful project . @sumas72181326 @ripon...</td>\n",
              "      <td>this wonderful project . @sumas72181326 @ripon...</td>\n",
              "      <td>[ competition ]</td>\n",
              "      <td>#competition</td>\n",
              "    </tr>\n",
              "    <tr>\n",
              "      <th>5</th>\n",
              "      <td>starfish beat Wvu164 in a head to head challen...</td>\n",
              "      <td>starfish beat wvu164 in a head to head challen...</td>\n",
              "      <td>starfish beat wvu164 in a head to head challen...</td>\n",
              "      <td>starfish beat wvu164 in a head to head challen...</td>\n",
              "      <td>[ it s my chance ,  prizes ,  1 st place ,  co...</td>\n",
              "      <td>#itsmychance #prizes #1stplace #competition</td>\n",
              "    </tr>\n",
              "    <tr>\n",
              "      <th>6</th>\n",
              "      <td>I know that,this is a great project.I like thi...</td>\n",
              "      <td>i know that , this is a great project . i like...</td>\n",
              "      <td>i know that , this is a great project . i like...</td>\n",
              "      <td>i know that , this is a great project . i like...</td>\n",
              "      <td>[ competition ]</td>\n",
              "      <td>#competition</td>\n",
              "    </tr>\n",
              "    <tr>\n",
              "      <th>7</th>\n",
              "      <td>Pantages beat Jbassking in a head to head chal...</td>\n",
              "      <td>pantages beat jbassking in a head to head chal...</td>\n",
              "      <td>pantages beat jbassking in a head to head chal...</td>\n",
              "      <td>pantages beat jbassking in a head to head chal...</td>\n",
              "      <td>[ it s my chance ,  prizes ,  1 st place ,  co...</td>\n",
              "      <td>#itsmychance #prizes #1stplace #competition</td>\n",
              "    </tr>\n",
              "    <tr>\n",
              "      <th>8</th>\n",
              "      <td>SweeneyToddRundgren won this $10 Cash playing ...</td>\n",
              "      <td>sweeneytoddrundgren won this $10 cash playing ...</td>\n",
              "      <td>sweeneytoddrundgren won this $10 cash playing ...</td>\n",
              "      <td>sweeneytoddrundgren won this $10 cash playing ...</td>\n",
              "      <td>[ it s my chance ,  prizes ,  1 st place ,  co...</td>\n",
              "      <td>#itsmychance #prizes #1stplace #competition #w...</td>\n",
              "    </tr>\n",
              "    <tr>\n",
              "      <th>9</th>\n",
              "      <td>Good Wow @@PlatONKoreanis pretty impressive, t...</td>\n",
              "      <td>good wow @ @platonkoreanis pretty impressive ,...</td>\n",
              "      <td>good wow @ @platonkoreanis pretty impressive ,...</td>\n",
              "      <td>good wow @ @platonkoreanis pretty impressive ,...</td>\n",
              "      <td>[ competition ]</td>\n",
              "      <td>#competition</td>\n",
              "    </tr>\n",
              "  </tbody>\n",
              "</table>\n",
              "</div>\n",
              "      <button class=\"colab-df-convert\" onclick=\"convertToInteractive('df-19fe676f-547c-47d9-a38e-5f996d2d0ac6')\"\n",
              "              title=\"Convert this dataframe to an interactive table.\"\n",
              "              style=\"display:none;\">\n",
              "        \n",
              "  <svg xmlns=\"http://www.w3.org/2000/svg\" height=\"24px\"viewBox=\"0 0 24 24\"\n",
              "       width=\"24px\">\n",
              "    <path d=\"M0 0h24v24H0V0z\" fill=\"none\"/>\n",
              "    <path d=\"M18.56 5.44l.94 2.06.94-2.06 2.06-.94-2.06-.94-.94-2.06-.94 2.06-2.06.94zm-11 1L8.5 8.5l.94-2.06 2.06-.94-2.06-.94L8.5 2.5l-.94 2.06-2.06.94zm10 10l.94 2.06.94-2.06 2.06-.94-2.06-.94-.94-2.06-.94 2.06-2.06.94z\"/><path d=\"M17.41 7.96l-1.37-1.37c-.4-.4-.92-.59-1.43-.59-.52 0-1.04.2-1.43.59L10.3 9.45l-7.72 7.72c-.78.78-.78 2.05 0 2.83L4 21.41c.39.39.9.59 1.41.59.51 0 1.02-.2 1.41-.59l7.78-7.78 2.81-2.81c.8-.78.8-2.07 0-2.86zM5.41 20L4 18.59l7.72-7.72 1.47 1.35L5.41 20z\"/>\n",
              "  </svg>\n",
              "      </button>\n",
              "      \n",
              "  <style>\n",
              "    .colab-df-container {\n",
              "      display:flex;\n",
              "      flex-wrap:wrap;\n",
              "      gap: 12px;\n",
              "    }\n",
              "\n",
              "    .colab-df-convert {\n",
              "      background-color: #E8F0FE;\n",
              "      border: none;\n",
              "      border-radius: 50%;\n",
              "      cursor: pointer;\n",
              "      display: none;\n",
              "      fill: #1967D2;\n",
              "      height: 32px;\n",
              "      padding: 0 0 0 0;\n",
              "      width: 32px;\n",
              "    }\n",
              "\n",
              "    .colab-df-convert:hover {\n",
              "      background-color: #E2EBFA;\n",
              "      box-shadow: 0px 1px 2px rgba(60, 64, 67, 0.3), 0px 1px 3px 1px rgba(60, 64, 67, 0.15);\n",
              "      fill: #174EA6;\n",
              "    }\n",
              "\n",
              "    [theme=dark] .colab-df-convert {\n",
              "      background-color: #3B4455;\n",
              "      fill: #D2E3FC;\n",
              "    }\n",
              "\n",
              "    [theme=dark] .colab-df-convert:hover {\n",
              "      background-color: #434B5C;\n",
              "      box-shadow: 0px 1px 3px 1px rgba(0, 0, 0, 0.15);\n",
              "      filter: drop-shadow(0px 1px 2px rgba(0, 0, 0, 0.3));\n",
              "      fill: #FFFFFF;\n",
              "    }\n",
              "  </style>\n",
              "\n",
              "      <script>\n",
              "        const buttonEl =\n",
              "          document.querySelector('#df-19fe676f-547c-47d9-a38e-5f996d2d0ac6 button.colab-df-convert');\n",
              "        buttonEl.style.display =\n",
              "          google.colab.kernel.accessAllowed ? 'block' : 'none';\n",
              "\n",
              "        async function convertToInteractive(key) {\n",
              "          const element = document.querySelector('#df-19fe676f-547c-47d9-a38e-5f996d2d0ac6');\n",
              "          const dataTable =\n",
              "            await google.colab.kernel.invokeFunction('convertToInteractive',\n",
              "                                                     [key], {});\n",
              "          if (!dataTable) return;\n",
              "\n",
              "          const docLinkHtml = 'Like what you see? Visit the ' +\n",
              "            '<a target=\"_blank\" href=https://colab.research.google.com/notebooks/data_table.ipynb>data table notebook</a>'\n",
              "            + ' to learn more about interactive tables.';\n",
              "          element.innerHTML = '';\n",
              "          dataTable['output_type'] = 'display_data';\n",
              "          await google.colab.output.renderOutput(dataTable, element);\n",
              "          const docLink = document.createElement('div');\n",
              "          docLink.innerHTML = docLinkHtml;\n",
              "          element.appendChild(docLink);\n",
              "        }\n",
              "      </script>\n",
              "    </div>\n",
              "  </div>\n",
              "  "
            ]
          },
          "metadata": {},
          "execution_count": 15
        }
      ]
    },
    {
      "cell_type": "code",
      "source": [
        "final_df = tweet_df[[\"final_tweet\", \"final_hashtags\"]]\n",
        "final_df = final_df.rename(columns={'final_tweet': 'prompt', 'final_hashtags': 'completion'})"
      ],
      "metadata": {
        "id": "A10YoKhwPpfh"
      },
      "execution_count": null,
      "outputs": []
    },
    {
      "cell_type": "code",
      "source": [
        "final_df.head(5)"
      ],
      "metadata": {
        "colab": {
          "base_uri": "https://localhost:8080/",
          "height": 263
        },
        "id": "0vF7fK-ZUIJT",
        "outputId": "5991c2d2-92b1-4eff-f01c-1120eb96ad26"
      },
      "execution_count": null,
      "outputs": [
        {
          "output_type": "execute_result",
          "data": {
            "text/plain": [
              "                                              prompt  \\\n",
              "0  starfish beat jmarkz87 in a head to head chall...   \n",
              "1  very good project wow @ @platonkoreanis pretty...   \n",
              "2  wow @ @platonkoreanis pretty impressive , test...   \n",
              "3  very good project , i wish you more success in...   \n",
              "4  this wonderful project . @sumas72181326 @ripon...   \n",
              "\n",
              "                                    completion  \n",
              "0  #itsmychance #prizes #1stplace #competition  \n",
              "1                                 #competition  \n",
              "2                                 #competition  \n",
              "3                                 #competition  \n",
              "4                                 #competition  "
            ],
            "text/html": [
              "\n",
              "  <div id=\"df-84b3ad7d-dee5-49be-8d49-33f8686c224a\">\n",
              "    <div class=\"colab-df-container\">\n",
              "      <div>\n",
              "<style scoped>\n",
              "    .dataframe tbody tr th:only-of-type {\n",
              "        vertical-align: middle;\n",
              "    }\n",
              "\n",
              "    .dataframe tbody tr th {\n",
              "        vertical-align: top;\n",
              "    }\n",
              "\n",
              "    .dataframe thead th {\n",
              "        text-align: right;\n",
              "    }\n",
              "</style>\n",
              "<table border=\"1\" class=\"dataframe\">\n",
              "  <thead>\n",
              "    <tr style=\"text-align: right;\">\n",
              "      <th></th>\n",
              "      <th>prompt</th>\n",
              "      <th>completion</th>\n",
              "    </tr>\n",
              "  </thead>\n",
              "  <tbody>\n",
              "    <tr>\n",
              "      <th>0</th>\n",
              "      <td>starfish beat jmarkz87 in a head to head chall...</td>\n",
              "      <td>#itsmychance #prizes #1stplace #competition</td>\n",
              "    </tr>\n",
              "    <tr>\n",
              "      <th>1</th>\n",
              "      <td>very good project wow @ @platonkoreanis pretty...</td>\n",
              "      <td>#competition</td>\n",
              "    </tr>\n",
              "    <tr>\n",
              "      <th>2</th>\n",
              "      <td>wow @ @platonkoreanis pretty impressive , test...</td>\n",
              "      <td>#competition</td>\n",
              "    </tr>\n",
              "    <tr>\n",
              "      <th>3</th>\n",
              "      <td>very good project , i wish you more success in...</td>\n",
              "      <td>#competition</td>\n",
              "    </tr>\n",
              "    <tr>\n",
              "      <th>4</th>\n",
              "      <td>this wonderful project . @sumas72181326 @ripon...</td>\n",
              "      <td>#competition</td>\n",
              "    </tr>\n",
              "  </tbody>\n",
              "</table>\n",
              "</div>\n",
              "      <button class=\"colab-df-convert\" onclick=\"convertToInteractive('df-84b3ad7d-dee5-49be-8d49-33f8686c224a')\"\n",
              "              title=\"Convert this dataframe to an interactive table.\"\n",
              "              style=\"display:none;\">\n",
              "        \n",
              "  <svg xmlns=\"http://www.w3.org/2000/svg\" height=\"24px\"viewBox=\"0 0 24 24\"\n",
              "       width=\"24px\">\n",
              "    <path d=\"M0 0h24v24H0V0z\" fill=\"none\"/>\n",
              "    <path d=\"M18.56 5.44l.94 2.06.94-2.06 2.06-.94-2.06-.94-.94-2.06-.94 2.06-2.06.94zm-11 1L8.5 8.5l.94-2.06 2.06-.94-2.06-.94L8.5 2.5l-.94 2.06-2.06.94zm10 10l.94 2.06.94-2.06 2.06-.94-2.06-.94-.94-2.06-.94 2.06-2.06.94z\"/><path d=\"M17.41 7.96l-1.37-1.37c-.4-.4-.92-.59-1.43-.59-.52 0-1.04.2-1.43.59L10.3 9.45l-7.72 7.72c-.78.78-.78 2.05 0 2.83L4 21.41c.39.39.9.59 1.41.59.51 0 1.02-.2 1.41-.59l7.78-7.78 2.81-2.81c.8-.78.8-2.07 0-2.86zM5.41 20L4 18.59l7.72-7.72 1.47 1.35L5.41 20z\"/>\n",
              "  </svg>\n",
              "      </button>\n",
              "      \n",
              "  <style>\n",
              "    .colab-df-container {\n",
              "      display:flex;\n",
              "      flex-wrap:wrap;\n",
              "      gap: 12px;\n",
              "    }\n",
              "\n",
              "    .colab-df-convert {\n",
              "      background-color: #E8F0FE;\n",
              "      border: none;\n",
              "      border-radius: 50%;\n",
              "      cursor: pointer;\n",
              "      display: none;\n",
              "      fill: #1967D2;\n",
              "      height: 32px;\n",
              "      padding: 0 0 0 0;\n",
              "      width: 32px;\n",
              "    }\n",
              "\n",
              "    .colab-df-convert:hover {\n",
              "      background-color: #E2EBFA;\n",
              "      box-shadow: 0px 1px 2px rgba(60, 64, 67, 0.3), 0px 1px 3px 1px rgba(60, 64, 67, 0.15);\n",
              "      fill: #174EA6;\n",
              "    }\n",
              "\n",
              "    [theme=dark] .colab-df-convert {\n",
              "      background-color: #3B4455;\n",
              "      fill: #D2E3FC;\n",
              "    }\n",
              "\n",
              "    [theme=dark] .colab-df-convert:hover {\n",
              "      background-color: #434B5C;\n",
              "      box-shadow: 0px 1px 3px 1px rgba(0, 0, 0, 0.15);\n",
              "      filter: drop-shadow(0px 1px 2px rgba(0, 0, 0, 0.3));\n",
              "      fill: #FFFFFF;\n",
              "    }\n",
              "  </style>\n",
              "\n",
              "      <script>\n",
              "        const buttonEl =\n",
              "          document.querySelector('#df-84b3ad7d-dee5-49be-8d49-33f8686c224a button.colab-df-convert');\n",
              "        buttonEl.style.display =\n",
              "          google.colab.kernel.accessAllowed ? 'block' : 'none';\n",
              "\n",
              "        async function convertToInteractive(key) {\n",
              "          const element = document.querySelector('#df-84b3ad7d-dee5-49be-8d49-33f8686c224a');\n",
              "          const dataTable =\n",
              "            await google.colab.kernel.invokeFunction('convertToInteractive',\n",
              "                                                     [key], {});\n",
              "          if (!dataTable) return;\n",
              "\n",
              "          const docLinkHtml = 'Like what you see? Visit the ' +\n",
              "            '<a target=\"_blank\" href=https://colab.research.google.com/notebooks/data_table.ipynb>data table notebook</a>'\n",
              "            + ' to learn more about interactive tables.';\n",
              "          element.innerHTML = '';\n",
              "          dataTable['output_type'] = 'display_data';\n",
              "          await google.colab.output.renderOutput(dataTable, element);\n",
              "          const docLink = document.createElement('div');\n",
              "          docLink.innerHTML = docLinkHtml;\n",
              "          element.appendChild(docLink);\n",
              "        }\n",
              "      </script>\n",
              "    </div>\n",
              "  </div>\n",
              "  "
            ]
          },
          "metadata": {},
          "execution_count": 29
        }
      ]
    },
    {
      "cell_type": "markdown",
      "source": [
        "## Write to CSV"
      ],
      "metadata": {
        "id": "qIuuFSwtfFfR"
      }
    },
    {
      "cell_type": "code",
      "source": [
        "final_df.to_csv(\"tweet_prompts.csv\")"
      ],
      "metadata": {
        "id": "iHhjKFtkULN5"
      },
      "execution_count": null,
      "outputs": []
    },
    {
      "cell_type": "markdown",
      "source": [
        "## Finetune GPT3"
      ],
      "metadata": {
        "id": "PGXrSo9zfJ18"
      }
    },
    {
      "cell_type": "code",
      "source": [
        "import openai"
      ],
      "metadata": {
        "id": "Bzpg0uMZaYU0"
      },
      "execution_count": null,
      "outputs": []
    },
    {
      "cell_type": "code",
      "source": [
        "!openai tools fine_tunes.prepare_data -f \"tweet_prompts.csv\""
      ],
      "metadata": {
        "colab": {
          "base_uri": "https://localhost:8080/"
        },
        "id": "CJ75DZRcars2",
        "outputId": "587d0311-24cd-47ac-d7b9-7d019c1ff8ae"
      },
      "execution_count": null,
      "outputs": [
        {
          "output_type": "stream",
          "name": "stdout",
          "text": [
            "Logging requires wandb to be installed. Run `pip install wandb`.\n",
            "Analyzing...\n",
            "\n",
            "- Based on your file extension, your file is formatted as a CSV file\n",
            "- Your file contains 1964 prompt-completion pairs\n",
            "- The input file should contain exactly two columns/keys per row. Additional columns/keys present are: ['Unnamed: 0']\n",
            "  WARNING: Some of the additional columns/keys contain `Unnamed: 0` in their name. These will be ignored, and the column/key `Unnamed: 0` will be used instead. This could also result from a duplicate column/key in the provided file.\n",
            "- `completion` column/key should not contain empty strings. These are rows: [20, 41, 222, 623, 1004, 1402, 1603]\n",
            "- There are 60 duplicated prompt-completion sets. These are rows: [128, 129, 131, 134, 243, 251, 252, 254, 259, 300, 301, 302, 308, 310, 320, 324, 325, 327, 333, 334, 337, 441, 443, 446, 449, 450, 453, 454, 467, 770, 1020, 1024, 1025, 1081, 1083, 1084, 1103, 1106, 1107, 1115, 1117, 1118, 1162, 1218, 1219, 1226, 1232, 1420, 1424, 1436, 1465, 1468, 1517, 1521, 1724, 1825, 1835, 1939, 1941, 1954]\n",
            "- Your data does not contain a common separator at the end of your prompts. Having a separator string appended to the end of the prompt makes it clearer to the fine-tuned model where the completion should begin. See https://beta.openai.com/docs/guides/fine-tuning/preparing-your-dataset for more detail and examples. If you intend to do open-ended generation, then you should leave the prompts empty\n",
            "- Your data does not contain a common ending at the end of your completions. Having a common ending string appended to the end of the completion makes it clearer to the fine-tuned model where the completion should end. See https://beta.openai.com/docs/guides/fine-tuning/preparing-your-dataset for more detail and examples.\n",
            "- The completion should start with a whitespace character (` `). This tends to produce better results due to the tokenization we use. See https://beta.openai.com/docs/guides/fine-tuning/preparing-your-dataset for more details\n",
            "\n",
            "Based on the analysis we will perform the following actions:\n",
            "- [Necessary] Your format `CSV` will be converted to `JSONL`\n",
            "- [Necessary] Remove additional columns/keys: ['Unnamed: 0']\n",
            "- [Necessary] Remove 7 rows with empty completions\n",
            "- [Recommended] Remove 60 duplicate rows [Y/n]: Y\n",
            "- [Recommended] Add a suffix separator ` ->` to all prompts [Y/n]: n\n",
            "- [Recommended] Add a suffix ending `\\n` to all completions [Y/n]: n\n",
            "- [Recommended] Add a whitespace character to the beginning of the completion [Y/n]: Y\n",
            "\n",
            "\n",
            "Your data will be written to a new JSONL file. Proceed [Y/n]: Y\n",
            "\n",
            "Wrote modified file to `tweet_prompts_prepared (1).jsonl`\n",
            "Feel free to take a look!\n",
            "\n",
            "Now use that file when fine-tuning:\n",
            "> openai api fine_tunes.create -t \"tweet_prompts_prepared (1).jsonl\"\n",
            "\n",
            "\n",
            "Once your model starts training, it'll approximately take 1.64 hours to train a `curie` model, and less for `ada` and `babbage`. Queue will approximately take half an hour per job ahead of you.\n"
          ]
        }
      ]
    },
    {
      "cell_type": "code",
      "source": [
        "!openai api fine_tunes.create -t \"tweet_prompts_prepared.jsonl\""
      ],
      "metadata": {
        "colab": {
          "base_uri": "https://localhost:8080/"
        },
        "id": "ynnm7-XWa9Zt",
        "outputId": "6ad69ad1-7b11-4a1a-93c3-7a822f57c437"
      },
      "execution_count": null,
      "outputs": [
        {
          "output_type": "stream",
          "name": "stdout",
          "text": [
            "Logging requires wandb to be installed. Run `pip install wandb`.\n",
            "\u001b[91mError:\u001b[0m No API key provided. You can set your API key in code using 'openai.api_key = <API-KEY>', or you can set the environment variable OPENAI_API_KEY=<API-KEY>). If your API key is stored in a file, you can point the openai module at it with 'openai.api_key_path = <PATH>'. You can generate API keys in the OpenAI web interface. See https://onboard.openai.com for details, or email support@openai.com if you have any questions.\n"
          ]
        }
      ]
    },
    {
      "cell_type": "code",
      "source": [
        ""
      ],
      "metadata": {
        "id": "kHYYXi3FbSC5"
      },
      "execution_count": null,
      "outputs": []
    }
  ]
}